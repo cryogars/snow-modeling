{
 "cells": [
  {
   "cell_type": "code",
   "execution_count": null,
   "id": "2069a440-52cd-483b-b5e8-3ef8404e9074",
   "metadata": {},
   "outputs": [],
   "source": [
    "import math\n",
    "import numpy as np\n",
    "\n",
    "from common import *\n",
    "from mcs_shared import load_day, load_flight, load_model, load_topo, \\\n",
    "    ACCUMULATION_FLIGHTS, xr"
   ]
  },
  {
   "cell_type": "code",
   "execution_count": null,
   "id": "5b8899b0-a708-4cc3-98fb-6aabfa776de7",
   "metadata": {},
   "outputs": [],
   "source": [
    "%load_ext autoreload\n",
    "%autoreload 2"
   ]
  },
  {
   "cell_type": "markdown",
   "id": "4c8f9de7-631b-4509-aa4e-a0bada017127",
   "metadata": {},
   "source": [
    "## Snow Depth Map resolution"
   ]
  },
  {
   "cell_type": "code",
   "execution_count": null,
   "id": "da1f4f30-c815-4f97-8551-9c41bb4ad3e1",
   "metadata": {},
   "outputs": [],
   "source": [
    "RESOLUTION = 10 # meters"
   ]
  },
  {
   "cell_type": "markdown",
   "id": "472d6598-5707-4e6c-b3a9-94530a9abfa1",
   "metadata": {},
   "source": [
    "## Get common area across all flights"
   ]
  },
  {
   "cell_type": "code",
   "execution_count": null,
   "id": "f153e93f-eb2c-4e45-8429-0db791e743f2",
   "metadata": {},
   "outputs": [],
   "source": [
    "pd.options.plotting.backend = 'matplotlib'"
   ]
  },
  {
   "cell_type": "code",
   "execution_count": null,
   "id": "6fe4ba2c-d214-4bf5-b962-dfc4a46600bf",
   "metadata": {},
   "outputs": [],
   "source": [
    "def common_area(flights):\n",
    "    als_depth = []\n",
    "    masks = []\n",
    "\n",
    "    for flight in flights:\n",
    "        als, mask = load_flight(\n",
    "            flight, RESOLUTION, masked=False\n",
    "        )\n",
    "        \n",
    "        als_depth.append(als)\n",
    "        masks.append(mask.values)\n",
    "\n",
    "    return als_depth, np.logical_and.reduce(np.stack(masks))\n",
    "    \n",
    "def area_factors(als_depth, common_area):\n",
    "    als_area = []\n",
    "    als_factors = []\n",
    "    als_depth_masked = []\n",
    "    \n",
    "    for als in als_depth:\n",
    "        als.coords['mask'] = (('y', 'x'), common_area)\n",
    "        # Reduce to common area\n",
    "        als = als.where(als.mask, drop=True)\n",
    "\n",
    "        als_depth_masked.append(als)\n",
    "                \n",
    "        mean = float(als.snowdepth.mean().values)\n",
    "        als = (als.snowdepth / mean)\n",
    "\n",
    "        als_area.append(als)\n",
    "\n",
    "        als_f = als.values.flatten()\n",
    "        als_f = als_f[~np.isnan(als_f)]\n",
    "\n",
    "        als_factors.append(als_f)\n",
    "\n",
    "    return als_factors, als_depth_masked, als_area"
   ]
  },
  {
   "cell_type": "code",
   "execution_count": null,
   "id": "289c8f83-69f1-4d18-8dbb-0def08ee4ad2",
   "metadata": {},
   "outputs": [],
   "source": [
    "als_depth, joined_mask = common_area(ACCUMULATION_FLIGHTS)\n",
    "factors, depths, areas = area_factors(\n",
    "    als_depth, joined_mask\n",
    ")"
   ]
  },
  {
   "cell_type": "markdown",
   "id": "a3aa3c71-4ded-4865-8441-f0d87704d4cf",
   "metadata": {},
   "source": [
    "## Depths"
   ]
  },
  {
   "cell_type": "code",
   "execution_count": null,
   "id": "06ce022b-18fc-4da1-8155-6bf26803c391",
   "metadata": {},
   "outputs": [],
   "source": [
    "COLORS = [\n",
    "    'royalblue', 'peru', 'teal', 'lightcoral', 'blueviolet', 'seagreen'\n",
    "]"
   ]
  },
  {
   "cell_type": "code",
   "execution_count": null,
   "id": "b66688ca-41f7-4e09-86bb-8af7b08e5069",
   "metadata": {},
   "outputs": [],
   "source": [
    "fig, ax = plt.subplots(dpi=300, figsize=(10,4))\n",
    "\n",
    "for idx, date in enumerate(ACCUMULATION_FLIGHTS):\n",
    "    pd.DataFrame(\n",
    "        depths[idx].snowdepth.values.flatten(), \n",
    "        columns=[pd.to_datetime(date).strftime('%Y-%m-%d')]\n",
    "    ).plot(\n",
    "        kind='density', ax=ax, lw=1, color=COLORS[idx], alpha=0.8\n",
    "    )\n",
    "\n",
    "ax.set_xlim(0,4.5)\n",
    "ax.set_xlabel('Snow Depth (m)')\n",
    "ax.set_ylim(-0.05, 1.6);"
   ]
  },
  {
   "cell_type": "markdown",
   "id": "293f7bb9-a144-4425-a821-686470d624fc",
   "metadata": {},
   "source": [
    "## Factors"
   ]
  },
  {
   "cell_type": "code",
   "execution_count": null,
   "id": "6bc1e29a-11b3-439a-afc6-ba478cedbb37",
   "metadata": {},
   "outputs": [],
   "source": [
    "fig, ax = plt.subplots(dpi=300, figsize=(10,4))\n",
    "\n",
    "for idx, date in enumerate(ACCUMULATION_FLIGHTS):\n",
    "    pd.DataFrame(\n",
    "        factors[idx], \n",
    "        columns=[pd.to_datetime(date).strftime('%Y-%m-%d')]\n",
    "    ).plot(\n",
    "        kind='density', ax=ax, lw=1, color=COLORS[idx], alpha=0.8\n",
    "    )\n",
    "\n",
    "ax.set_xlim(0,2)\n",
    "ax.set_xlabel('Factors')\n",
    "ax.set_ylim(-0.05, 2);"
   ]
  },
  {
   "cell_type": "markdown",
   "id": "1af65a9d-9fff-46c6-bb50-b2c04f51dc85",
   "metadata": {},
   "source": [
    "### Elevation"
   ]
  },
  {
   "cell_type": "code",
   "execution_count": null,
   "id": "ac691680-f8af-431c-9165-4c84d9b51f45",
   "metadata": {},
   "outputs": [],
   "source": [
    "topo = load_topo(joined_mask)"
   ]
  },
  {
   "cell_type": "code",
   "execution_count": null,
   "id": "63857d91-67b9-4015-8e1f-8108f7c9b5c0",
   "metadata": {},
   "outputs": [],
   "source": [
    "def reduce_nan_xarray(variable):\n",
    "    flattened = variable.values.flatten()\n",
    "    return flattened[~np.isnan(flattened)]"
   ]
  },
  {
   "cell_type": "code",
   "execution_count": null,
   "id": "d62c7ba9-b095-4661-8a8c-11141a7fd9d0",
   "metadata": {},
   "outputs": [],
   "source": [
    "elevation = topo.dem.values.flatten()\n",
    "elevation = elevation[~np.isnan(elevation)]"
   ]
  },
  {
   "cell_type": "code",
   "execution_count": null,
   "id": "d9537777-7d2e-4b39-9df3-2df8d74cf240",
   "metadata": {},
   "outputs": [],
   "source": [
    "coeff = []\n",
    "intercept = []\n",
    "\n",
    "for factor in factors:\n",
    "    c, i = np.polyfit(factor, elevation, deg=1)\n",
    "    coeff.append(c)\n",
    "    intercept.append(i)"
   ]
  },
  {
   "cell_type": "code",
   "execution_count": null,
   "id": "bbfcf7ca-df8e-4ee2-b294-258a90443b18",
   "metadata": {},
   "outputs": [],
   "source": [
    "fig, axes = plt.subplots(\n",
    "    ncols=len(ACCUMULATION_FLIGHTS) + 1, \n",
    "    dpi=300, figsize=(10,5), sharex=True, sharey=True\n",
    ")\n",
    "x_val = np.linspace(0, 2, num=40)\n",
    "\n",
    "for index, date in enumerate(ACCUMULATION_FLIGHTS):\n",
    "    date_label = pd.to_datetime(date).strftime('%Y-%m-%d')\n",
    "    cmap = axes[index].scatter(\n",
    "        factors[index], elevation, \n",
    "        c=reduce_nan_xarray(depths[index].snowdepth), \n",
    "        s=0.8, cmap='cividis', clim=(0, 4)\n",
    "    )\n",
    "    axes[index].set_title(label=date_label)\n",
    "    \n",
    "    # Last panel regression line\n",
    "    axes[-1].plot(\n",
    "        x_val, intercept[index] + coeff[index] * x_val, \n",
    "        label=date_label,\n",
    "        lw=1.5, alpha=0.8, ls='--'\n",
    "    )\n",
    "    axes[-1].legend(\n",
    "        ncol=2, \n",
    "        loc='lower center',\n",
    "        bbox_to_anchor=(-0.2, -0.25), \n",
    "        prop={'size': 8}\n",
    "    )\n",
    "\n",
    "axes[0].set_ylim(1580, 2500)\n",
    "axes[0].set_xlim(0, 3)\n",
    "axes[0].set_ylabel('Elevation (m)')\n",
    "axes[3].set_xlabel('Factors')\n",
    "\n",
    "cax = fig.add_axes([0.12, -0.015, 0.5, 0.03])\n",
    "fig.colorbar(\n",
    "    cmap, cax=cax, orientation='horizontal', \n",
    "    fraction=.05, label='Snow Depth (m)'\n",
    ");"
   ]
  },
  {
   "cell_type": "markdown",
   "id": "46b3a0b9-0212-4575-acf1-e12123f79454",
   "metadata": {},
   "source": [
    "## Holoviews"
   ]
  },
  {
   "cell_type": "code",
   "execution_count": null,
   "id": "4deb10dc-d2c8-4b5e-9f41-d5bdfbed6a86",
   "metadata": {},
   "outputs": [],
   "source": [
    "from holoviews import opts, Cycle"
   ]
  },
  {
   "cell_type": "code",
   "execution_count": null,
   "id": "c54ab1d5-c239-4602-927b-b9dfcaa3695e",
   "metadata": {},
   "outputs": [],
   "source": [
    "use_hvplot()"
   ]
  },
  {
   "cell_type": "markdown",
   "id": "ab30e759-c8e9-4ee5-95fc-696b72a79f1b",
   "metadata": {},
   "source": [
    "### Density plots "
   ]
  },
  {
   "cell_type": "code",
   "execution_count": null,
   "id": "4adea63e-7fcd-4cd6-bdbb-3fde636ce822",
   "metadata": {},
   "outputs": [],
   "source": [
    "def plot_flights(flights, factors, depths, title):\n",
    "    return hv.Layout([\n",
    "            hv.NdOverlay(\n",
    "                { flights[n]: hv.Distribution(factors[n]) for n in range(0, len(flights)) }\n",
    "            ).opts(\n",
    "                opts.Distribution(filled=False, line_color=Cycle())\n",
    "            ).opts(**HV_PLOT_OPTS, title='Factors', xlim=(0, 2), xlabel='Factors'),\n",
    "            hv.NdOverlay(\n",
    "                { \n",
    "                    flights[n]: hv.Distribution(depths[n].snowdepth.values.flatten()).opts(tools=['hover'])\n",
    "                    for n in range(0, len(flights)) \n",
    "                }\n",
    "            ).opts(\n",
    "                opts.Distribution(filled=False, line_color=Cycle())\n",
    "            ).opts(**HV_PLOT_OPTS, title='Depths', xlim=(0, 4), xlabel='Depths')\n",
    "        ]).opts(shared_axes=False, title=title).cols(1)"
   ]
  },
  {
   "cell_type": "code",
   "execution_count": null,
   "id": "1fdac1ad-3279-4598-b2f3-5356e7d59f0f",
   "metadata": {},
   "outputs": [],
   "source": [
    "plot_flights(ACCUMULATION_FLIGHTS, factors, depths, \"Accumulation Flights\")"
   ]
  },
  {
   "cell_type": "markdown",
   "id": "d5f0618d-0e7c-4245-be07-6f5933d36f0a",
   "metadata": {},
   "source": [
    "## Gamma"
   ]
  },
  {
   "cell_type": "markdown",
   "id": "15e9c1b2-076f-4b42-8799-b8344aea772a",
   "metadata": {},
   "source": [
    "Plot CDF for depths "
   ]
  },
  {
   "cell_type": "code",
   "execution_count": null,
   "id": "c8135637-48f6-4a3b-885f-8b077bbd41b5",
   "metadata": {},
   "outputs": [],
   "source": [
    "from scipy import stats\n",
    "import pprint\n",
    "np.set_printoptions(precision=3, suppress=True)"
   ]
  },
  {
   "cell_type": "code",
   "execution_count": null,
   "id": "0c8dbb14-415b-454b-ab37-0ab21f7a33cd",
   "metadata": {},
   "outputs": [],
   "source": [
    "def fit_norm(flight, idx, x):\n",
    "    param = stats.norm.fit(flight)\n",
    "    return stats.norm.cdf(x, *param)"
   ]
  },
  {
   "cell_type": "code",
   "execution_count": null,
   "id": "5bd4d7a5-1fc4-4871-9347-43434e9f26b3",
   "metadata": {},
   "outputs": [],
   "source": [
    "def fit_gamma(flight, idx, x):\n",
    "    param = stats.gamma.fit(flight)\n",
    "    return stats.gamma.cdf(x, *param)    "
   ]
  },
  {
   "cell_type": "code",
   "execution_count": null,
   "id": "ca05e81a-cc93-48ad-9980-5803599aef24",
   "metadata": {},
   "outputs": [],
   "source": [
    "fig, ax = plt.subplots(dpi=300)\n",
    "\n",
    "for idx, flight in enumerate(factors):\n",
    "    ecdf_f = stats.ecdf(flight)\n",
    "    ecdf_f.cdf.plot(ax, label=f'{ACCUMULATION_FLIGHTS[idx]}')\n",
    "    # print(peak_als_depth[idx])\n",
    "    # pprint.pp(ecdf_f.cdf.quantiles)\n",
    "\n",
    "ax.set_title(\"ECDF\")\n",
    "ax.legend()\n",
    "plt.show()"
   ]
  }
 ],
 "metadata": {
  "kernelspec": {
   "display_name": "Snow Viz",
   "language": "python",
   "name": "snow_viz"
  },
  "language_info": {
   "codemirror_mode": {
    "name": "ipython",
    "version": 3
   },
   "file_extension": ".py",
   "mimetype": "text/x-python",
   "name": "python",
   "nbconvert_exporter": "python",
   "pygments_lexer": "ipython3",
   "version": "3.12.5"
  }
 },
 "nbformat": 4,
 "nbformat_minor": 5
}
