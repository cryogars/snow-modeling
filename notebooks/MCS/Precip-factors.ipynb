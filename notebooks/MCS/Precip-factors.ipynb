{
 "cells": [
  {
   "cell_type": "code",
   "execution_count": null,
   "id": "2069a440-52cd-483b-b5e8-3ef8404e9074",
   "metadata": {},
   "outputs": [],
   "source": [
    "import math\n",
    "import numpy as np\n",
    "\n",
    "from common import *\n",
    "from mcs_shared import load_day, load_flight, load_model, load_topo"
   ]
  },
  {
   "cell_type": "code",
   "execution_count": null,
   "id": "5b8899b0-a708-4cc3-98fb-6aabfa776de7",
   "metadata": {},
   "outputs": [],
   "source": [
    "%load_ext autoreload\n",
    "%autoreload 2"
   ]
  },
  {
   "cell_type": "code",
   "execution_count": null,
   "id": "4deb10dc-d2c8-4b5e-9f41-d5bdfbed6a86",
   "metadata": {},
   "outputs": [],
   "source": [
    "from holoviews import opts, Cycle"
   ]
  },
  {
   "cell_type": "markdown",
   "id": "0566a88e-e827-4e8c-aea6-a9f4746bfb79",
   "metadata": {},
   "source": [
    "# Dates"
   ]
  },
  {
   "cell_type": "code",
   "execution_count": null,
   "id": "5d32bf4e-c8e9-4953-81d4-669151572bd1",
   "metadata": {},
   "outputs": [],
   "source": [
    "peak_als_depth = [\"20230209\", \"20230316\", \"20240115\"]\n",
    "flights_feb = [\"20220217\", \"20230209\"]\n",
    "flights_2024 = [\"20231228\", \"20240115\", \"20240315\"]\n",
    "mcs_all = [\"20220217\", \"20220317\", \"20230209\", \"20230316\", \"20240115\", \"20240315\"]\n",
    "mcs_full_domain =[\"20220217\", \"20230209\", \"20230316\", \"20231228\", \"20240115\", \"20240315\"]\n",
    "# \"20210310\", has the smallest area of all March month\n",
    "# \"20231113\", too early low snow, no pattern established\n",
    "# \"20240213\", Flight line issue"
   ]
  },
  {
   "cell_type": "markdown",
   "id": "472d6598-5707-4e6c-b3a9-94530a9abfa1",
   "metadata": {},
   "source": [
    "## Get common area across all flights"
   ]
  },
  {
   "cell_type": "code",
   "execution_count": null,
   "id": "6fe4ba2c-d214-4bf5-b962-dfc4a46600bf",
   "metadata": {},
   "outputs": [],
   "source": [
    "def common_area_factors(flights):\n",
    "    als_depth = []\n",
    "    masks = []\n",
    "\n",
    "    for flight in flights:\n",
    "        als, mask = load_flight(flight, masked=False)\n",
    "        \n",
    "        als_depth.append(als)\n",
    "        masks.append(mask.values)\n",
    "\n",
    "    joined_mask = np.logical_and.reduce(np.stack(masks))\n",
    "\n",
    "    topo = load_topo(joined_mask)\n",
    "    \n",
    "    als_area = []\n",
    "    als_factors = []\n",
    "    als_depth_masked = []\n",
    "    \n",
    "    for als in als_depth:\n",
    "        als.coords['mask'] = (('y', 'x'), joined_mask)\n",
    "        # To exclude the road, add: .where(als.y > 4866255, drop=True)\n",
    "        als = als.where(als.mask, drop=True)\n",
    "\n",
    "        als_depth_masked.append(als)\n",
    "        \n",
    "        mean_model = float(als.snowdepth.mean().values)\n",
    "        als = (als.snowdepth / mean_model)\n",
    "\n",
    "        als_area.append(als)\n",
    "\n",
    "        als_f = als.values.flatten()\n",
    "        als_f = als_f[~np.isnan(als_f)]\n",
    "\n",
    "        als_factors.append(als_f)\n",
    "\n",
    "    return als_factors, als_depth_masked, als_area, topo"
   ]
  },
  {
   "cell_type": "code",
   "execution_count": null,
   "id": "289c8f83-69f1-4d18-8dbb-0def08ee4ad2",
   "metadata": {},
   "outputs": [],
   "source": [
    "factors, depths, area_factors, topo = common_area_factors(peak_als_depth)"
   ]
  },
  {
   "cell_type": "markdown",
   "id": "a3aa3c71-4ded-4865-8441-f0d87704d4cf",
   "metadata": {},
   "source": [
    "## Depths"
   ]
  },
  {
   "cell_type": "code",
   "execution_count": null,
   "id": "22a3cdfd-eb32-4eb5-b691-aafe10d52651",
   "metadata": {},
   "outputs": [],
   "source": [
    "import matplotlib.pyplot as plt"
   ]
  },
  {
   "cell_type": "code",
   "execution_count": null,
   "id": "b66688ca-41f7-4e09-86bb-8af7b08e5069",
   "metadata": {},
   "outputs": [],
   "source": [
    "fig, ax = plt.subplots(dpi=300, figsize=(10,4))\n",
    "\n",
    "pd.DataFrame(depths[0].snowdepth.values.flatten(), columns=[pd.to_datetime(peak_als_depth[0]).strftime('%Y-%m-%d')]).plot(\n",
    "    kind='density', ax=ax, lw=1, color='royalblue', alpha=0.8\n",
    ")\n",
    "pd.DataFrame(depths[1].snowdepth.values.flatten(), columns=[pd.to_datetime(peak_als_depth[1]).strftime('%Y-%m-%d')]).plot(\n",
    "    kind='density', ax=ax, lw=1, color='peru', alpha=0.8\n",
    ")\n",
    "pd.DataFrame(depths[2].snowdepth.values.flatten(), columns=[pd.to_datetime(peak_als_depth[2]).strftime('%Y-%m-%d')]).plot(\n",
    "    kind='density', ax=ax, lw=1, color='teal', alpha=0.8\n",
    ")\n",
    "ax.set_xlim(0,4.5)\n",
    "ax.set_xlabel('Snow Depth (m)')\n",
    "ax.set_ylim(-0.05, 1.6)"
   ]
  },
  {
   "cell_type": "code",
   "execution_count": null,
   "id": "6bc1e29a-11b3-439a-afc6-ba478cedbb37",
   "metadata": {},
   "outputs": [],
   "source": [
    "fig, ax = plt.subplots(dpi=300, figsize=(10,4))\n",
    "\n",
    "pd.DataFrame(factors[0], columns=[pd.to_datetime(peak_als_depth[0]).strftime('%Y-%m-%d')]).plot(\n",
    "    kind='density', ax=ax, lw=1, color='royalblue', alpha=0.8\n",
    ")\n",
    "pd.DataFrame(factors[1], columns=[pd.to_datetime(peak_als_depth[1]).strftime('%Y-%m-%d')]).plot(\n",
    "    kind='density', ax=ax, lw=1, color='peru', alpha=0.8\n",
    ")\n",
    "pd.DataFrame(factors[2], columns=[pd.to_datetime(peak_als_depth[2]).strftime('%Y-%m-%d')]).plot(\n",
    "    kind='density', ax=ax, lw=1, color='teal', alpha=0.8\n",
    ")\n",
    "ax.set_xlim(0,4.5)\n",
    "ax.set_xlabel('Factors')\n",
    "ax.set_ylim(-0.05, 1.6)"
   ]
  },
  {
   "cell_type": "code",
   "execution_count": null,
   "id": "642bafcd-17de-4b00-b93c-82b32ed3f188",
   "metadata": {},
   "outputs": [],
   "source": [
    "jan_feb = area_factors[2] - area_factors[0]\n",
    "feb_march = area_factors[0] - area_factors[1]"
   ]
  },
  {
   "cell_type": "code",
   "execution_count": null,
   "id": "bfb8c810-0d7e-4eb4-8cd0-ec394ad77115",
   "metadata": {},
   "outputs": [],
   "source": [
    "fig, (ax, ax2) = plt.subplots(ncols=2, dpi=300, figsize=(10,4), sharey=True, width_ratios=[4.5, 5.5])\n",
    "jan_feb.plot(ax=ax, add_colorbar=False, clim=(-.1, .1), vmin=-0.5, vmax=0.5, cmap='RdBu', )\n",
    "feb_march.plot(ax=ax2, vmin=-0.5, vmax=0.5, cmap='RdBu', cbar_kwargs={'label': r'$\\Delta$ Factors'})\n",
    "\n",
    "ax.set_title('')\n",
    "ax2.set_title('')\n",
    "\n",
    "ax.set_yticklabels([])\n",
    "ax.set_xticklabels([])\n",
    "ax2.set_xticklabels([])\n",
    "\n",
    "ax.set_ylabel('')\n",
    "ax.set_xlabel('')\n",
    "ax2.set_ylabel('')\n",
    "ax2.set_xlabel('')\n",
    "\n",
    "fig.tight_layout()"
   ]
  },
  {
   "cell_type": "code",
   "execution_count": null,
   "id": "63857d91-67b9-4015-8e1f-8108f7c9b5c0",
   "metadata": {},
   "outputs": [],
   "source": [
    "def reduce_nan_xarray(variable):\n",
    "    flattened = variable.values.flatten()\n",
    "    return flattened[~np.isnan(flattened)]"
   ]
  },
  {
   "cell_type": "code",
   "execution_count": null,
   "id": "d62c7ba9-b095-4661-8a8c-11141a7fd9d0",
   "metadata": {},
   "outputs": [],
   "source": [
    "elevation = topo.dem.values.flatten()\n",
    "elevation = elevation[~np.isnan(elevation)]"
   ]
  },
  {
   "cell_type": "code",
   "execution_count": null,
   "id": "d9537777-7d2e-4b39-9df3-2df8d74cf240",
   "metadata": {},
   "outputs": [],
   "source": [
    "b, a = np.polyfit(factors[2], elevation, deg=1)\n",
    "b2, a2 = np.polyfit(factors[0], elevation, deg=1)\n",
    "b3, a3 = np.polyfit(factors[1], elevation, deg=1)"
   ]
  },
  {
   "cell_type": "code",
   "execution_count": null,
   "id": "01d400f3-4b89-47e7-83e2-7b1a1ee6f4fa",
   "metadata": {},
   "outputs": [],
   "source": [
    "fig, axes = plt.subplots(ncols=4, dpi=300, figsize=(10,4.5), sharex=True, sharey=True)\n",
    "axes[0].scatter(\n",
    "    factors[2], elevation, c=reduce_nan_xarray(depths[2].snowdepth), \n",
    "    s=0.8, cmap='cividis', clim=(0, 4)\n",
    ")\n",
    "axes[0].set_title(label=pd.to_datetime(peak_als_depth[2]).strftime('%Y-%m-%d'))\n",
    "axes[1].scatter(\n",
    "    factors[0], elevation, c=reduce_nan_xarray(depths[0].snowdepth), \n",
    "    s=0.8, cmap='cividis', clim=(0, 4)\n",
    ")\n",
    "axes[1].set_title(label=pd.to_datetime(peak_als_depth[0]).strftime('%Y-%m-%d'))\n",
    "cmap = axes[2].scatter(\n",
    "    factors[1], elevation, c=reduce_nan_xarray(depths[1].snowdepth), \n",
    "    s=0.8, cmap='cividis', clim=(0, 4)\n",
    ")\n",
    "axes[2].set_title(label=pd.to_datetime(peak_als_depth[1]).strftime('%Y-%m-%d'))\n",
    "\n",
    "axes[0].set_ylim(1580, 2500)\n",
    "axes[0].set_xlim(0, 3)\n",
    "axes[0].set_ylabel('Elevation (m)')\n",
    "for ax in axes:\n",
    "    ax.set_xlabel('Factors')\n",
    "\n",
    "x_val = np.linspace(0, 2, num=40)\n",
    "\n",
    "axes[3].plot(\n",
    "    x_val, a + b * x_val, \n",
    "    label=pd.to_datetime(peak_als_depth[2]).strftime('%Y-%m-%d'),\n",
    "    color='teal', lw=1.5, alpha=0.8, ls='--'\n",
    ")\n",
    "axes[3].plot(\n",
    "    x_val, a2 + b2 * x_val, \n",
    "    label=pd.to_datetime(peak_als_depth[0]).strftime('%Y-%m-%d'),\n",
    "    color='royalblue', lw=1.5, alpha=0.8, ls='--'\n",
    ")\n",
    "axes[3].plot(\n",
    "    x_val, a3 + b3 * x_val, \n",
    "    label=pd.to_datetime(peak_als_depth[1]).strftime('%Y-%m-%d'),\n",
    "    color='peru', lw=1.5, alpha=0.8, ls='--'\n",
    ")\n",
    "axes[3].legend(prop={'size': 8})\n",
    "fig.colorbar(cmap, ax=axes, orientation='horizontal', fraction=.05, label='Snow Depth (m)')\n",
    "\n",
    "# fig.tight_layout()"
   ]
  },
  {
   "cell_type": "markdown",
   "id": "46b3a0b9-0212-4575-acf1-e12123f79454",
   "metadata": {},
   "source": [
    "## Holoviews"
   ]
  },
  {
   "cell_type": "code",
   "execution_count": null,
   "id": "c54ab1d5-c239-4602-927b-b9dfcaa3695e",
   "metadata": {},
   "outputs": [],
   "source": [
    "use_hvplot()"
   ]
  },
  {
   "cell_type": "code",
   "execution_count": null,
   "id": "104413f0-f5e5-4f99-baaa-ddd75ddaaf08",
   "metadata": {},
   "outputs": [],
   "source": [
    "def get_factors(dates):\n",
    "    factors = []\n",
    "    masks = []\n",
    "\n",
    "    for flight in dates:\n",
    "        als, mask = load_flight(flight, masked=False)\n",
    "\n",
    "        masks.append(mask.values)\n",
    "\n",
    "    joined_mask = np.logical_and.reduce(np.stack(masks))\n",
    "    \n",
    "    for idx, flight in enumerate(dates):\n",
    "        isnobal = load_model(flight)\n",
    "\n",
    "        isnobal.coords['mask'] = (('y', 'x'), joined_mask)\n",
    "        isnobal = isnobal.where(isnobal.mask, drop=True)\n",
    "\n",
    "        depths[idx].coords['mask'] = (('y', 'x'), joined_mask)\n",
    "        depths[idx] = depths[idx].where(depths[idx].mask, drop=True)\n",
    "\n",
    "        depths[idx] = depths[idx].snowdepth.values.flatten()\n",
    "        depths[idx] = depths[idx][~np.isnan(depths[idx])]\n",
    "        \n",
    "        factor = isnobal.thickness.values.flatten()\n",
    "        factor = factor[~np.isnan(factor)]\n",
    "\n",
    "        factors.append(factor)\n",
    "\n",
    "    return means, factors, depths "
   ]
  },
  {
   "cell_type": "code",
   "execution_count": null,
   "id": "f2be1f5a-f7c6-4e0c-a1fe-1bcb22b0611f",
   "metadata": {},
   "outputs": [],
   "source": [
    "def plot_flights(flights, mcs_als, title):\n",
    "    return hv.Layout([\n",
    "            hv.NdOverlay(\n",
    "                { flights[n]: hv.Distribution(mcs_als[n]) for n in range(0, len(mcs_als))}\n",
    "            ).opts(\n",
    "                opts.Distribution(filled=False, line_color=Cycle())\n",
    "            ).opts(**HV_PLOT_OPTS, title='ALS', xlim=(0, 4))\n",
    "        ]).opts(shared_axes=False, title=title).cols(1)"
   ]
  },
  {
   "cell_type": "code",
   "execution_count": null,
   "id": "cb9e5bce-0096-4a0a-a045-e73a51c3f4ea",
   "metadata": {},
   "outputs": [],
   "source": [
    "mcs_als, depths, area_factors, topo = common_area_factors(peak_als_depth)"
   ]
  },
  {
   "cell_type": "code",
   "execution_count": null,
   "id": "3c4216ab-3cc8-4a1a-b384-ed62ecf58492",
   "metadata": {},
   "outputs": [],
   "source": [
    "plot_flights(peak_als_depth, mcs_als, \"Peak ALS Depth\")"
   ]
  },
  {
   "cell_type": "markdown",
   "id": "ab30e759-c8e9-4ee5-95fc-696b72a79f1b",
   "metadata": {},
   "source": [
    "# Factors for accumulation period flights "
   ]
  },
  {
   "cell_type": "code",
   "execution_count": null,
   "id": "87e2b1ed-5541-4460-9226-970d8b33f32b",
   "metadata": {},
   "outputs": [],
   "source": [
    "def get_factors(dates):\n",
    "    means = []\n",
    "    factors = []\n",
    "    depths = []\n",
    "\n",
    "    masks = []\n",
    "\n",
    "    for flight in dates:\n",
    "        als, mask = load_flight(flight, masked=False)\n",
    "        mean = float(als.snowdepth.mean().values)\n",
    "\n",
    "        depths.append(als)\n",
    "        means.append(mean)\n",
    "        masks.append(mask.values)\n",
    "\n",
    "    joined_mask = np.logical_and.reduce(np.stack(masks))\n",
    "    \n",
    "    for idx, flight in enumerate(dates):\n",
    "        isnobal = load_model(flight)\n",
    "\n",
    "        isnobal.coords['mask'] = (('y', 'x'), joined_mask)\n",
    "        isnobal = isnobal.where(isnobal.mask, drop=True)\n",
    "\n",
    "        depths[idx].coords['mask'] = (('y', 'x'), joined_mask)\n",
    "        depths[idx] = depths[idx].where(depths[idx].mask, drop=True)\n",
    "\n",
    "        depths[idx] = depths[idx].snowdepth.values.flatten()\n",
    "        depths[idx] = depths[idx][~np.isnan(depths[idx])]\n",
    "        \n",
    "        factor = isnobal.thickness.values.flatten()\n",
    "        factor = factor[~np.isnan(factor)]\n",
    "\n",
    "        factors.append(factor)\n",
    "\n",
    "    return means, factors, depths "
   ]
  },
  {
   "cell_type": "code",
   "execution_count": null,
   "id": "4adea63e-7fcd-4cd6-bdbb-3fde636ce822",
   "metadata": {},
   "outputs": [],
   "source": [
    "def plot_flights(flights, title):\n",
    "    means, factors, depths = get_factors(flights)\n",
    "\n",
    "    for index, flight in enumerate(means):\n",
    "        print(f\"{flights[index]}: {means[index]}\")\n",
    "        print(f\"                  {depths[index].shape}\")\n",
    "\n",
    "    return hv.Layout([\n",
    "            hv.NdOverlay(\n",
    "                { flights[n]: hv.Distribution(factors[n]) for n in range(0, len(flights))}\n",
    "            ).opts(\n",
    "                opts.Distribution(filled=False, line_color=Cycle())\n",
    "            ).opts(**HV_PLOT_OPTS, title='Factors'),\n",
    "            hv.NdOverlay(\n",
    "                { flights[n]: hv.Distribution(depths[n]) for n in range(0, len(flights))}\n",
    "            ).opts(\n",
    "                opts.Distribution(filled=False, line_color=Cycle())\n",
    "            ).opts(**HV_PLOT_OPTS, title='Depths')\n",
    "        ]).opts(shared_axes=False, title=title).cols(1)"
   ]
  },
  {
   "cell_type": "code",
   "execution_count": null,
   "id": "1fdac1ad-3279-4598-b2f3-5356e7d59f0f",
   "metadata": {},
   "outputs": [],
   "source": [
    "plot_flights(peak_als_depth, \"Peak ALS Depth\")"
   ]
  },
  {
   "cell_type": "markdown",
   "id": "355dd6f5-809f-4e01-802e-e0462452ce4c",
   "metadata": {},
   "source": [
    "## February"
   ]
  },
  {
   "cell_type": "code",
   "execution_count": null,
   "id": "e41eb6d8-d610-4f1b-87e0-8620e95c18b6",
   "metadata": {},
   "outputs": [],
   "source": [
    "plot_flights(flights_feb, \"February\")"
   ]
  },
  {
   "cell_type": "markdown",
   "id": "deee6202-693e-4855-877a-bb880629cd80",
   "metadata": {},
   "source": [
    "## 2024"
   ]
  },
  {
   "cell_type": "code",
   "execution_count": null,
   "id": "c0ca9042-3b77-43e3-9ec0-c80ce1da52aa",
   "metadata": {},
   "outputs": [],
   "source": [
    "plot_flights(flights_2024, \"2024\")"
   ]
  },
  {
   "cell_type": "markdown",
   "id": "8c2f0d25-bf9c-45be-8832-c5e06c2a56fe",
   "metadata": {},
   "source": [
    "# ALL"
   ]
  },
  {
   "cell_type": "code",
   "execution_count": null,
   "id": "0fd3610c-4c85-485d-9dc0-8ee594fcb8a2",
   "metadata": {},
   "outputs": [],
   "source": [
    "plot_flights(mcs_all, \"All\")"
   ]
  },
  {
   "cell_type": "markdown",
   "id": "d5f0618d-0e7c-4245-be07-6f5933d36f0a",
   "metadata": {},
   "source": [
    "## Gamma"
   ]
  },
  {
   "cell_type": "markdown",
   "id": "15e9c1b2-076f-4b42-8799-b8344aea772a",
   "metadata": {},
   "source": [
    "Plot CDF for depths "
   ]
  },
  {
   "cell_type": "code",
   "execution_count": null,
   "id": "c8135637-48f6-4a3b-885f-8b077bbd41b5",
   "metadata": {},
   "outputs": [],
   "source": [
    "from scipy import stats\n",
    "import pprint\n",
    "np.set_printoptions(precision=3, suppress=True)"
   ]
  },
  {
   "cell_type": "code",
   "execution_count": null,
   "id": "5087f55a-f2a5-43c6-9207-fb913dc8b0a4",
   "metadata": {},
   "outputs": [],
   "source": [
    "means, factors, depths = get_factors(mcs_all)"
   ]
  },
  {
   "cell_type": "code",
   "execution_count": null,
   "id": "0c8dbb14-415b-454b-ab37-0ab21f7a33cd",
   "metadata": {},
   "outputs": [],
   "source": [
    "def fit_norm(flight, idx, x):\n",
    "    param = stats.norm.fit(flight)\n",
    "    return stats.norm.cdf(x, *param)"
   ]
  },
  {
   "cell_type": "code",
   "execution_count": null,
   "id": "5bd4d7a5-1fc4-4871-9347-43434e9f26b3",
   "metadata": {},
   "outputs": [],
   "source": [
    "def fit_gamma(flight, idx, x):\n",
    "    param = stats.gamma.fit(flight)\n",
    "    return stats.gamma.cdf(x, *param)    "
   ]
  },
  {
   "cell_type": "code",
   "execution_count": null,
   "id": "ca05e81a-cc93-48ad-9980-5803599aef24",
   "metadata": {},
   "outputs": [],
   "source": [
    "fig, ax = plt.subplots(dpi=300)\n",
    "\n",
    "for idx, flight in enumerate(factors):\n",
    "    ecdf_f = stats.ecdf(flight)\n",
    "    ecdf_f.cdf.plot(ax, label=f'{mcs_all[idx]} ecdf')\n",
    "    # print(peak_als_depth[idx])\n",
    "    # pprint.pp(ecdf_f.cdf.quantiles)\n",
    "\n",
    "ax.legend()\n",
    "plt.show()"
   ]
  },
  {
   "cell_type": "code",
   "execution_count": null,
   "id": "b7db9bc0-f8f3-4b95-a7ff-5610099696b8",
   "metadata": {},
   "outputs": [],
   "source": [
    "fig, ax = plt.subplots(dpi=300)\n",
    "\n",
    "for idx, flight in enumerate(depths):\n",
    "    ecdf_f = stats.ecdf(flight)\n",
    "    ecdf_f.cdf.plot(ax, label=f'{mcs_all[idx]} ecdf')\n",
    "    # print(peak_als_depth[idx])\n",
    "    # pprint.pp(ecdf_f.cdf.quantiles)\n",
    "\n",
    "ax.legend()\n",
    "plt.show()"
   ]
  },
  {
   "cell_type": "code",
   "execution_count": null,
   "id": "d8fa4eb3-94f2-4989-84de-75179e4d689d",
   "metadata": {},
   "outputs": [],
   "source": []
  }
 ],
 "metadata": {
  "kernelspec": {
   "display_name": "Snow Viz",
   "language": "python",
   "name": "snow_viz"
  },
  "language_info": {
   "codemirror_mode": {
    "name": "ipython",
    "version": 3
   },
   "file_extension": ".py",
   "mimetype": "text/x-python",
   "name": "python",
   "nbconvert_exporter": "python",
   "pygments_lexer": "ipython3",
   "version": "3.12.5"
  }
 },
 "nbformat": 4,
 "nbformat_minor": 5
}
