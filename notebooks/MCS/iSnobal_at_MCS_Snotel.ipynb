{
 "cells": [
  {
   "cell_type": "code",
   "execution_count": null,
   "id": "b5ec6710-7d9c-4f9d-96c5-04127e8d494b",
   "metadata": {},
   "outputs": [],
   "source": [
    "import xarray as xr\n",
    "import numpy as np\n",
    "import pandas as pd\n",
    "\n",
    "from datetime import datetime\n",
    "\n",
    "from snobedo.lib.dask_utils import run_with_client\n",
    "\n",
    "from common import *\n",
    "from mcs_shared import SNOBAL_DIR, DATA_DIR, FIRST_WATER_YEAR, \\\n",
    "    load_snotel_locations, mcs_snotel_depth"
   ]
  },
  {
   "cell_type": "markdown",
   "id": "c1263950-dc32-4bc2-be48-4e98d6775469",
   "metadata": {},
   "source": [
    "## SNOTEL "
   ]
  },
  {
   "cell_type": "code",
   "execution_count": null,
   "id": "5561dddf-3132-44a2-8919-afe7f6209b7c",
   "metadata": {},
   "outputs": [],
   "source": [
    "snotel_sites = load_snotel_locations()\n",
    "snotel_depth = mcs_snotel_depth(datetime(FIRST_WATER_YEAR - 1, 10, 1), datetime(2024, 7, 31))"
   ]
  },
  {
   "cell_type": "markdown",
   "id": "806375bd-36c1-4361-aa08-6ad9ed724691",
   "metadata": {},
   "source": [
    "## Model"
   ]
  },
  {
   "cell_type": "code",
   "execution_count": null,
   "id": "e03c9c53-4581-49d6-a26e-001cf413a59e",
   "metadata": {},
   "outputs": [],
   "source": [
    "with run_with_client(10, 32):\n",
    "    mcs_snobal = xr.open_mfdataset(\n",
    "        (SNOBAL_DIR / f'wy202[0,1,2,3,4]' / 'mcs/*/snow.nc').as_posix(),\n",
    "        preprocess=lambda ds: ds['thickness'],\n",
    "        parallel=True,\n",
    "    ).sel(\n",
    "        x=snotel_sites.Mores_Creek_Summit.lon, \n",
    "        y=snotel_sites.Mores_Creek_Summit.lat,\n",
    "        method='nearest',\n",
    "    ).compute()"
   ]
  },
  {
   "cell_type": "markdown",
   "id": "ff7d2d69-29ed-4e27-b554-ea4ed73ed789",
   "metadata": {},
   "source": [
    "# Matplotlib "
   ]
  },
  {
   "cell_type": "code",
   "execution_count": null,
   "id": "559bd397-3aea-47a9-85c3-4557839fd88e",
   "metadata": {},
   "outputs": [],
   "source": [
    "import matplotlib.ticker as mticker\n",
    "from matplotlib.offsetbox import AnchoredText"
   ]
  },
  {
   "cell_type": "code",
   "execution_count": null,
   "id": "c8d1f447-8468-4161-a800-3d4fc4a16ed1",
   "metadata": {},
   "outputs": [],
   "source": [
    "STATION_LABEL = 'Station'\n",
    "COLORS = {\n",
    "        'iSnobal': 'cornflowerblue',\n",
    "        STATION_LABEL: 'seagreen',    \n",
    "}\n",
    "\n",
    "def plot_site(data, ax, xlim):\n",
    "    for key in data:\n",
    "        if key == STATION_LABEL:\n",
    "            continue\n",
    "\n",
    "        ax.plot(\n",
    "            data[key].time,\n",
    "            data[key].data.flatten(),\n",
    "            label=key, \n",
    "            color=COLORS[key], \n",
    "            alpha=0.9, lw=1\n",
    "        )\n",
    "    ax.plot(\n",
    "        data[STATION_LABEL].index,\n",
    "        data[STATION_LABEL].values,\n",
    "        label=key, \n",
    "        color=COLORS[STATION_LABEL], \n",
    "        alpha=0.9, lw=1.25\n",
    "    ) \n",
    "    \n",
    "    ax.set_ylabel(r'Snow Depth (m)')\n",
    "\n",
    "    ax.tick_params(axis='x', which='minor', tick1On=False, tick2On=False)\n",
    "\n",
    "    ax.set_xlim([xlim[0], xlim[-1]])\n",
    "    ax.set_yticks(np.arange(0, 4))\n",
    "    ax.set_ylim(bottom=-0.05)\n",
    "    ax.set_ylim(top=3)\n",
    "        \n",
    "    ax.yaxis.set_minor_locator(mticker.MultipleLocator(0.2))"
   ]
  },
  {
   "cell_type": "code",
   "execution_count": null,
   "id": "08ea76fd-a449-4c9c-9ab1-83259aef5172",
   "metadata": {},
   "outputs": [],
   "source": [
    "periods = 58\n",
    "plot_range = pd.date_range(start=f'{FIRST_WATER_YEAR - 1}-10-01', periods=periods, freq='MS')\n",
    "xTicks = mdates.DateFormatter('%b-%Y')\n",
    "\n",
    "figure_opts = dict(figsize=(6,3), dpi=300,)\n",
    "fig, axes = plt.subplots(1, 1, sharex=True, **figure_opts)\n",
    "plt.subplots_adjust(hspace=0.05)\n",
    "\n",
    "plot_site(\n",
    "    {\n",
    "        'iSnobal': mcs_snobal['thickness'],\n",
    "        STATION_LABEL: snotel_depth,\n",
    "    },\n",
    "    axes,\n",
    "    plot_range\n",
    ")\n",
    "\n",
    "axes.tick_params(axis='x', which='major', pad=0, labelrotation=45)\n",
    "\n",
    "# at = AnchoredText(\n",
    "#     f'Water Year {year} - 2022', \n",
    "#     prop=dict(size=10), \n",
    "#     frameon=False, \n",
    "#     loc='upper left', \n",
    "#     pad=0.3, \n",
    "#     borderpad=0.25,\n",
    "# )\n",
    "# axes.add_artist(at)\n",
    "axes.legend(\n",
    "    frameon=False,\n",
    "    bbox_to_anchor=(0.4, 0.99),\n",
    "    ncol=5,\n",
    "    borderaxespad=0.15, \n",
    "    fontsize=8\n",
    ");"
   ]
  },
  {
   "cell_type": "markdown",
   "id": "38467822-68ee-4c55-98bc-424ecfa8e53a",
   "metadata": {},
   "source": [
    "# HV plot"
   ]
  },
  {
   "cell_type": "markdown",
   "id": "32aca517-5923-47a4-acb1-748c3dab0f8a",
   "metadata": {},
   "source": [
    "## SNOTEL "
   ]
  },
  {
   "cell_type": "code",
   "execution_count": null,
   "id": "d363a818-2602-4833-b14f-6d4d877786fb",
   "metadata": {},
   "outputs": [],
   "source": [
    "use_hvplot()"
   ]
  },
  {
   "cell_type": "code",
   "execution_count": null,
   "id": "3575754c-1434-42c0-9b7c-cc5a1e75158b",
   "metadata": {},
   "outputs": [],
   "source": [
    "HV_PLOT_OPTS['ylabel'] = 'Snow Depth (m)'\n",
    "y_lim = (-0.05, 3.)\n",
    "SNOTEL_LINE=dict(line_width=3)"
   ]
  },
  {
   "cell_type": "code",
   "execution_count": null,
   "id": "95930027-8cc8-4f2f-97de-7aca1f8edb0a",
   "metadata": {},
   "outputs": [],
   "source": [
    "mcs_snobal.thickness.hvplot(label='iSnobal').opts(\n",
    "    title='Mores Creek Summit', ylim=y_lim, **LINE_STYLE, **HV_PLOT_OPTS\n",
    ") * \\\n",
    "snotel_depth.plot(label='Station', **SNOTEL_LINE)"
   ]
  }
 ],
 "metadata": {
  "kernelspec": {
   "display_name": "Snow Viz",
   "language": "python",
   "name": "snow_viz"
  },
  "language_info": {
   "codemirror_mode": {
    "name": "ipython",
    "version": 3
   },
   "file_extension": ".py",
   "mimetype": "text/x-python",
   "name": "python",
   "nbconvert_exporter": "python",
   "pygments_lexer": "ipython3",
   "version": "3.12.5"
  }
 },
 "nbformat": 4,
 "nbformat_minor": 5
}
