{
 "cells": [
  {
   "cell_type": "code",
   "execution_count": null,
   "id": "b5ec6710-7d9c-4f9d-96c5-04127e8d494b",
   "metadata": {},
   "outputs": [],
   "source": [
    "import xarray as xr\n",
    "import numpy as np\n",
    "import pandas as pd\n",
    "\n",
    "from datetime import datetime\n",
    "from metloom.pointdata import SnotelPointData\n",
    "\n",
    "from snobedo.lib.dask_utils import start_cluster, client_ip_and_port\n",
    "from snobedo.snotel import SnotelLocations\n",
    "\n",
    "from common import SNOBAL_DIR, DATA_DIR, COARSEN_OPTS, \\\n",
    "    use_hvplot, HV_PLOT_OPTS, BOKEH_FONT, LEGEND_OPTS, LINE_STYLE"
   ]
  },
  {
   "cell_type": "code",
   "execution_count": null,
   "id": "6611973b-d39d-4a87-859a-6154439c5d76",
   "metadata": {},
   "outputs": [],
   "source": [
    "client = start_cluster(10, 32)\n",
    "client_ip_and_port(client)"
   ]
  },
  {
   "cell_type": "code",
   "execution_count": null,
   "id": "b8b60116-8df6-49ba-af52-64d0df0adda8",
   "metadata": {},
   "outputs": [],
   "source": [
    "year = 2020\n",
    "water_year = f'wy{year}'"
   ]
  },
  {
   "cell_type": "markdown",
   "id": "c1263950-dc32-4bc2-be48-4e98d6775469",
   "metadata": {},
   "source": [
    "## SNOTEL "
   ]
  },
  {
   "cell_type": "code",
   "execution_count": null,
   "id": "0fbd72e9-7eb3-40f9-8399-bd98931ab84d",
   "metadata": {},
   "outputs": [],
   "source": [
    "snotel_sites = SnotelLocations()\n",
    "snotel_sites.load_from_json(DATA_DIR / 'snotel_sites_exact.json')"
   ]
  },
  {
   "cell_type": "code",
   "execution_count": null,
   "id": "5561dddf-3132-44a2-8919-afe7f6209b7c",
   "metadata": {},
   "outputs": [],
   "source": [
    "mcs_snotel_point = SnotelPointData(\"637:ID:SNTL\", \"MCS\")\n",
    "\n",
    "mcs_snotel = mcs_snotel_point.get_daily_data(\n",
    "    datetime(2019, 10, 1), datetime(2024, 7, 31),\n",
    "    [mcs_snotel_point.ALLOWED_VARIABLES.SNOWDEPTH]\n",
    ")\n",
    "\n",
    "mcs_snotel['SNOWDEPTH_M'] = mcs_snotel.SNOWDEPTH * 0.0254\n",
    "\n",
    "mcs_snotel_mt = mcs_snotel['SNOWDEPTH_M'].reset_index().set_index(\"datetime\").tz_convert('US/Mountain')['SNOWDEPTH_M']"
   ]
  },
  {
   "cell_type": "markdown",
   "id": "806375bd-36c1-4361-aa08-6ad9ed724691",
   "metadata": {},
   "source": [
    "## Model"
   ]
  },
  {
   "cell_type": "markdown",
   "id": "57a5104d-0c84-4405-afff-a401a3771977",
   "metadata": {},
   "source": [
    "### SMRF"
   ]
  },
  {
   "cell_type": "code",
   "execution_count": null,
   "id": "e03c9c53-4581-49d6-a26e-001cf413a59e",
   "metadata": {},
   "outputs": [],
   "source": [
    "mcs_snobal = xr.open_mfdataset(\n",
    "    (SNOBAL_DIR / f'wy202[0,1,2,3,4]' / 'mcs/*/snow.nc').as_posix(),\n",
    "    preprocess=lambda ds: ds['thickness'],\n",
    "    parallel=True,\n",
    ").sel(\n",
    "    x=snotel_sites.Mores_Creek_Summit.lon, \n",
    "    y=snotel_sites.Mores_Creek_Summit.lat,\n",
    "    method='nearest',\n",
    ").compute()"
   ]
  },
  {
   "cell_type": "code",
   "execution_count": null,
   "id": "2757c805-7c1c-4a0a-a031-e59eb8ef9547",
   "metadata": {},
   "outputs": [],
   "source": [
    "client.shutdown()"
   ]
  },
  {
   "cell_type": "markdown",
   "id": "ff7d2d69-29ed-4e27-b554-ea4ed73ed789",
   "metadata": {},
   "source": [
    "# Matplotlib "
   ]
  },
  {
   "cell_type": "code",
   "execution_count": null,
   "id": "559bd397-3aea-47a9-85c3-4557839fd88e",
   "metadata": {},
   "outputs": [],
   "source": [
    "import matplotlib.pyplot as plt\n",
    "import matplotlib.dates as mdates\n",
    "import matplotlib.patches as mpatches\n",
    "import matplotlib.ticker as mticker\n",
    "from matplotlib.offsetbox import AnchoredText"
   ]
  },
  {
   "cell_type": "code",
   "execution_count": null,
   "id": "c8d1f447-8468-4161-a800-3d4fc4a16ed1",
   "metadata": {},
   "outputs": [],
   "source": [
    "STATION_LABEL = 'Station'\n",
    "COLORS = {\n",
    "        'iSnobal': 'cornflowerblue',\n",
    "        STATION_LABEL: 'seagreen',    \n",
    "}\n",
    "\n",
    "def plot_site(data, ax, site_name):\n",
    "    for key in data:\n",
    "        if key == STATION_LABEL:\n",
    "            continue\n",
    "\n",
    "        ax.plot(\n",
    "            data[key].time,\n",
    "            data[key].data.flatten(),\n",
    "            label=key, \n",
    "            color=COLORS[key], \n",
    "            alpha=0.9, lw=1\n",
    "        )\n",
    "    ax.plot(\n",
    "        data[STATION_LABEL].index,\n",
    "        data[STATION_LABEL].values,\n",
    "        label=key, \n",
    "        color=COLORS[STATION_LABEL], \n",
    "        alpha=0.9, lw=1.25\n",
    "    ) \n",
    "    \n",
    "    ax.set_ylabel(r'Snow Depth (m)')\n",
    "\n",
    "    ax.tick_params(axis='x', which='minor', tick1On=False, tick2On=False)\n",
    "\n",
    "    ax.set_xlim([plot_range[0], plot_range[-1]])\n",
    "    ax.set_yticks(np.arange(0, 4))\n",
    "    ax.set_ylim(bottom=-0.05)\n",
    "    ax.set_ylim(top=3)\n",
    "        \n",
    "    ax.yaxis.set_minor_locator(mticker.MultipleLocator(0.2))"
   ]
  },
  {
   "cell_type": "code",
   "execution_count": null,
   "id": "08ea76fd-a449-4c9c-9ab1-83259aef5172",
   "metadata": {},
   "outputs": [],
   "source": [
    "periods = 36\n",
    "plot_range = pd.date_range(start=f'{year - 1}-10-01', periods=periods, freq='MS')\n",
    "xTicks = mdates.DateFormatter('%b-%Y')\n",
    "\n",
    "figure_opts = dict(figsize=(6,3), dpi=300,)\n",
    "fig, axes = plt.subplots(1, 1, sharex=True, **figure_opts)\n",
    "plt.subplots_adjust(hspace=0.05)\n",
    "\n",
    "plot_site(\n",
    "    {\n",
    "        'iSnobal': mcs_snobal['thickness'],\n",
    "        STATION_LABEL: mcs_snotel_mt,\n",
    "    },\n",
    "    axes,\n",
    "    'MCS'\n",
    ")\n",
    "\n",
    "axes.tick_params(axis='x', which='major', pad=0, labelrotation=45)\n",
    "\n",
    "# at = AnchoredText(\n",
    "#     f'Water Year {year} - 2022', \n",
    "#     prop=dict(size=10), \n",
    "#     frameon=False, \n",
    "#     loc='upper left', \n",
    "#     pad=0.3, \n",
    "#     borderpad=0.25,\n",
    "# )\n",
    "# axes.add_artist(at)\n",
    "axes.legend(\n",
    "    frameon=False,\n",
    "    bbox_to_anchor=(0.995, 0.99),\n",
    "    ncol=5,\n",
    "    borderaxespad=0.15, \n",
    "    fontsize=8\n",
    ");"
   ]
  },
  {
   "cell_type": "markdown",
   "id": "38467822-68ee-4c55-98bc-424ecfa8e53a",
   "metadata": {},
   "source": [
    "# HV plot"
   ]
  },
  {
   "cell_type": "markdown",
   "id": "32aca517-5923-47a4-acb1-748c3dab0f8a",
   "metadata": {},
   "source": [
    "## SNOTEL "
   ]
  },
  {
   "cell_type": "code",
   "execution_count": null,
   "id": "d363a818-2602-4833-b14f-6d4d877786fb",
   "metadata": {},
   "outputs": [],
   "source": [
    "import hvplot.xarray\n",
    "import holoviews as hv\n",
    "\n",
    "use_hvplot()\n",
    "hvplot.extension('bokeh')"
   ]
  },
  {
   "cell_type": "code",
   "execution_count": null,
   "id": "3575754c-1434-42c0-9b7c-cc5a1e75158b",
   "metadata": {},
   "outputs": [],
   "source": [
    "hv.output(fig='auto', dpi=300)\n",
    "\n",
    "HV_PLOT_OPTS['ylabel'] = 'Snow Depth (m)'\n",
    "HV_PLOT_OPTS['xlabel'] = f'Water Year {year}'\n",
    "\n",
    "y_lim = (-0.05, 3.)\n",
    "SNOTEL_LINE=dict(line_width=3)\n",
    "date_range = np.datetime64(f'{year - 1}-10-20'), np.datetime64(f'2024-06-30')"
   ]
  },
  {
   "cell_type": "code",
   "execution_count": null,
   "id": "95930027-8cc8-4f2f-97de-7aca1f8edb0a",
   "metadata": {},
   "outputs": [],
   "source": [
    "mcs_snobal.thickness.hvplot(label='iSnobal').opts(\n",
    "    title='Mores Creek Summit', ylim=y_lim, xlim=date_range, **LINE_STYLE, **HV_PLOT_OPTS\n",
    ") * \\\n",
    "mcs_snotel_mt.plot(label='Station', **SNOTEL_LINE)"
   ]
  },
  {
   "cell_type": "code",
   "execution_count": null,
   "id": "64f02147-0152-4e90-ae00-6cc14e8c389c",
   "metadata": {},
   "outputs": [],
   "source": []
  }
 ],
 "metadata": {
  "kernelspec": {
   "display_name": "Snow Viz",
   "language": "python",
   "name": "snow_viz"
  },
  "language_info": {
   "codemirror_mode": {
    "name": "ipython",
    "version": 3
   },
   "file_extension": ".py",
   "mimetype": "text/x-python",
   "name": "python",
   "nbconvert_exporter": "python",
   "pygments_lexer": "ipython3",
   "version": "3.12.5"
  }
 },
 "nbformat": 4,
 "nbformat_minor": 5
}
