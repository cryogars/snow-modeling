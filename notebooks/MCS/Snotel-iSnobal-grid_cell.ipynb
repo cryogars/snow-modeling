{
 "cells": [
  {
   "cell_type": "code",
   "execution_count": null,
   "metadata": {},
   "outputs": [],
   "source": [
    "from common import *"
   ]
  },
  {
   "cell_type": "code",
   "execution_count": null,
   "metadata": {},
   "outputs": [],
   "source": [
    "water_year = 2020"
   ]
  },
  {
   "cell_type": "markdown",
   "metadata": {},
   "source": [
    "## Show SNOTEL site location in matching iSnobal grid cell "
   ]
  },
  {
   "cell_type": "code",
   "execution_count": null,
   "metadata": {},
   "outputs": [],
   "source": [
    "snow = xr.open_dataset(\n",
    "    (SNOBAL_DIR / f'wy{water_year}' / f'mcs/run{water_year}0101/snow.nc').as_posix(),\n",
    ")"
   ]
  },
  {
   "cell_type": "code",
   "execution_count": null,
   "metadata": {},
   "outputs": [],
   "source": [
    "def plot_snobal_snotel(site):\n",
    "    snow = xr.open_dataset(\n",
    "         (SNOBAL_DIR / f'wy{water_year}' / f'mcs/run{water_year}0101/snow.nc').as_posix(),\n",
    "        ).sel(x=[site.lon], y=[site.lat], method='nearest')\n",
    "\n",
    "    x, y = np.meshgrid(snow.x, snow.y)\n",
    "    half_grid = 5\n",
    "\n",
    "    figure, ax = plt.subplots(1, 1, figsize=(11, 10), dpi=100)\n",
    "    ax.scatter(site.lon, site.lat, s=150, label='Site location')\n",
    "    ax.scatter(x.flatten(), y.flatten(), s=150, label='Cell center')\n",
    "    plt.grid(True)\n",
    "    ax.ticklabel_format(useOffset=False)\n",
    "    ax.set_xticks([snow.x[0] - half_grid, snow.x[0] + half_grid])\n",
    "    ax.set_yticks([snow.y[0] - half_grid, snow.y[0] + half_grid])\n",
    "    ax.set_xlim(left=snow.x[0] - half_grid, right=snow.x[0] + half_grid)\n",
    "    ax.set_ylim(bottom=snow.y[0] - half_grid, top=snow.y[0] + half_grid)\n",
    "    ax.set_ylabel('Latitude')\n",
    "    ax.set_xlabel('Longitude')\n",
    "    ax.set_title(f'SNOTEL - {site.name}')\n",
    "    ax.legend()\n",
    "    plt.show()"
   ]
  },
  {
   "cell_type": "code",
   "execution_count": null,
   "metadata": {},
   "outputs": [],
   "source": [
    "for site in SnotelLocations.parse_json(DATA_DIR / 'snotel_sites.json'):\n",
    "    plot_snobal_snotel(site)"
   ]
  }
 ],
 "metadata": {
  "kernelspec": {
   "display_name": "Snow Viz",
   "language": "python",
   "name": "snow_viz"
  },
  "language_info": {
   "codemirror_mode": {
    "name": "ipython",
    "version": 3
   },
   "file_extension": ".py",
   "mimetype": "text/x-python",
   "name": "python",
   "nbconvert_exporter": "python",
   "pygments_lexer": "ipython3",
   "version": "3.12.5"
  }
 },
 "nbformat": 4,
 "nbformat_minor": 4
}
