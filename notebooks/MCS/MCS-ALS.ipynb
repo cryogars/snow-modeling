{
 "cells": [
  {
   "cell_type": "code",
   "execution_count": null,
   "id": "bd2d0d09-5a25-4996-b98b-036b6e689ba6",
   "metadata": {},
   "outputs": [],
   "source": [
    "import math\n",
    "import numpy as np\n",
    "import pprint as pp\n",
    "\n",
    "from common import *\n",
    "from mcs_shared import load_day, load_flight, ACCUMULATION_FLIGHTS\n",
    "\n",
    "from bokeh.models.formatters import BasicTickFormatter\n",
    "\n",
    "use_hvplot()"
   ]
  },
  {
   "cell_type": "code",
   "execution_count": null,
   "id": "dddd1be9-b9b7-4a45-90dc-8fb7642dd056",
   "metadata": {},
   "outputs": [],
   "source": [
    "%load_ext autoreload\n",
    "%autoreload 2"
   ]
  },
  {
   "cell_type": "markdown",
   "id": "f3d6702e-881f-483e-ae87-e54c92e3b194",
   "metadata": {},
   "source": [
    "## Snow depth map resolution"
   ]
  },
  {
   "cell_type": "code",
   "execution_count": null,
   "id": "f054ba0f-de20-49fa-8ec9-2f37a8c68b3f",
   "metadata": {},
   "outputs": [],
   "source": [
    "RESOLUTION = 10"
   ]
  },
  {
   "cell_type": "markdown",
   "id": "0566a88e-e827-4e8c-aea6-a9f4746bfb79",
   "metadata": {},
   "source": [
    "# Dates"
   ]
  },
  {
   "cell_type": "code",
   "execution_count": null,
   "id": "6d35729a-4658-466f-8830-a934558b4df3",
   "metadata": {},
   "outputs": [],
   "source": [
    "def diff_violin_mpl():\n",
    "    data = diff.values.flatten()\n",
    "    fig  = plt.figure(dpi=300, figsize=(1,2))\n",
    "    ax = fig.gca()\n",
    "    \n",
    "    parts = ax.violinplot(\n",
    "        data[~np.isnan(data)],\n",
    "        quantiles=[0.05, 0.95],\n",
    "        showextrema=False,\n",
    "        showmeans=True\n",
    "    )\n",
    "    for pc in parts['bodies']:\n",
    "        pc.set_facecolor('peru')\n",
    "        pc.set_alpha=0.8\n",
    "        pc.set_edgecolor('black')\n",
    "    \n",
    "    ax.set_ylim(-2, 2)\n",
    "    # ax.set_yticks(np.arange(-2, 2.2, step=0.2))\n",
    "    ax.yaxis.minorticks_on()\n",
    "    ax.set_ylabel('Depth Difference (m)')\n",
    "    ax.set_title(date)\n",
    "\n",
    "def diff_area_mpl():\n",
    "    fig  = plt.figure(dpi=300)\n",
    "    ax = fig.gca()\n",
    "    data.plot(vmin=-1, vmax=1, cmap='RdBu_r', cbar_kwargs={'label':'Depth Difference (m)'})\n",
    "    ax.set_title('')\n",
    "    ax.ticklabel_format(useOffset=False, style='plain')\n",
    "    ax.tick_params(axis='x', labelrotation=45)\n",
    "    ax.set_ylabel('Northing [m]')\n",
    "    ax.set_xlabel('Easting [m]');"
   ]
  },
  {
   "cell_type": "code",
   "execution_count": null,
   "id": "370da6a7-db52-450a-881c-e7741ebb2f3e",
   "metadata": {},
   "outputs": [],
   "source": [
    "def plot_flight(date):\n",
    "    mcs_als, isnobal, diff, _mask = load_day(date, RESOLUTION)\n",
    "    hist_bins = np.arange(0, 5, 0.1)\n",
    "    \n",
    "    summary_stats(mcs_als, isnobal, diff)\n",
    "    \n",
    "    return hv.Layout([\n",
    "            # mcs_als.snowdepth.hvplot(x='x', y='y', clim=(0,3)).opts(title='ALS') + \n",
    "            # isnobal.thickness.hvplot(clim=(0,3)).opts(title='Model') + \n",
    "            diff.hvplot(x='x', y='y', cmap='bwr_r', clim=(-1,1)).opts(\n",
    "                title='Depth Difference', **BOKEH_FONT, height=600, width=800,\n",
    "                yformatter=BasicTickFormatter(use_scientific=False), xformatter=BasicTickFormatter(use_scientific=False),\n",
    "            ),\n",
    "            diff.hvplot.violin().opts(title='', inner='quartiles', \n",
    "                                      ylabel='Snow Depth (m)', xlabel='', ylim=(-2, 2),\n",
    "                                      height=600, width=600, **BOKEH_FONT), \n",
    "        ] + [\n",
    "            # mcs_als.snowdepth.hvplot.density(alpha=.3, label='ALS').opts(title='Depth Distribution') *\n",
    "            mcs_als.snowdepth.rename('ALS').hvplot.hist(bins=hist_bins, alpha=.5, height=400, width=800, color='orange', title='Snow Depth') * \\\n",
    "            isnobal.thickness.rename('iSnobal').hvplot.hist(bins=hist_bins, alpha=.5, height=400, width=800, **BOKEH_FONT)\n",
    "        ]).cols(2).opts(title=date, **HV_PLOT_OPTS)\n",
    "\n",
    "\n",
    "def summary_stats(mcs_als, isnobal, diff):\n",
    "    stats = [\n",
    "        get_stats(\"ALS\", mcs_als.snowdepth),\n",
    "        get_stats(\"iSnobal\", isnobal.thickness),\n",
    "        get_stats(\"Difference\", diff),\n",
    "    ]\n",
    "    display(pd.concat(stats))\n",
    "\n",
    "\n",
    "def get_stats(source, data):\n",
    "    return pd.DataFrame({\n",
    "        \"Source\": [source], \n",
    "        \"Median\": [data.median().values.round(2)],\n",
    "        \"Mean\": [data.mean().values.round(2)],\n",
    "        \"SD\": [data.std().values.round(2)],\n",
    "    })"
   ]
  },
  {
   "cell_type": "markdown",
   "id": "999b2e3c-9e4b-4973-ad19-fb19d04d3456",
   "metadata": {},
   "source": [
    "# Flights"
   ]
  },
  {
   "cell_type": "code",
   "execution_count": null,
   "id": "6ccb946a-2604-4d28-9c47-d3b6527d0b76",
   "metadata": {},
   "outputs": [],
   "source": [
    "plot_flight(\"20221208\")"
   ]
  },
  {
   "cell_type": "code",
   "execution_count": null,
   "id": "535cf422-5452-422b-86c4-caa198b4e14e",
   "metadata": {},
   "outputs": [],
   "source": [
    "plot_flight(\"20230209\")"
   ]
  },
  {
   "cell_type": "code",
   "execution_count": null,
   "id": "9d8ded78-85f5-400a-85bd-5fcac9998455",
   "metadata": {},
   "outputs": [],
   "source": [
    "plot_flight(\"20230316\")"
   ]
  },
  {
   "cell_type": "code",
   "execution_count": null,
   "id": "406fcfd9-4faa-4a07-b0ef-af262587c09b",
   "metadata": {},
   "outputs": [],
   "source": [
    "plot_flight(\"20230405\")"
   ]
  },
  {
   "cell_type": "code",
   "execution_count": null,
   "id": "8684d8f6-bbd6-405f-a0d4-47b3b82d5c20",
   "metadata": {},
   "outputs": [],
   "source": [
    "plot_flight(\"20231228\")"
   ]
  },
  {
   "cell_type": "code",
   "execution_count": null,
   "id": "7eba741e-f9ec-4dee-9a7e-ab6922a6d1b4",
   "metadata": {},
   "outputs": [],
   "source": [
    "plot_flight(\"20240115\")"
   ]
  }
 ],
 "metadata": {
  "kernelspec": {
   "display_name": "Snow Viz",
   "language": "python",
   "name": "snow_viz"
  },
  "language_info": {
   "codemirror_mode": {
    "name": "ipython",
    "version": 3
   },
   "file_extension": ".py",
   "mimetype": "text/x-python",
   "name": "python",
   "nbconvert_exporter": "python",
   "pygments_lexer": "ipython3",
   "version": "3.12.5"
  }
 },
 "nbformat": 4,
 "nbformat_minor": 5
}
