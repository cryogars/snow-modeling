{
 "cells": [
  {
   "cell_type": "code",
   "execution_count": null,
   "id": "9979aca5-75fa-44a2-951e-b77f51b0bec5",
   "metadata": {},
   "outputs": [],
   "source": [
    "import skgstat as skg\n",
    "import dask\n",
    "\n",
    "from matplotlib.ticker import AutoMinorLocator\n",
    "from sklearn.linear_model import LinearRegression\n",
    "from scipy import stats\n",
    "\n",
    "from common import *\n",
    "from mcs_shared import load_flight_tif, ACCUMULATION_FLIGHTS, load_dem\n",
    "from variograms import (\n",
    "    detrend_plane, variogram_plane_fit, variogram_detrend_elevation,\n",
    "    sample_from_flight\n",
    ")\n",
    "from snobedo.lib.dask_utils import run_with_client"
   ]
  },
  {
   "cell_type": "code",
   "execution_count": null,
   "id": "5fec7a40-cf7d-4310-b2be-72b8323956b7",
   "metadata": {},
   "outputs": [],
   "source": [
    "%load_ext autoreload\n",
    "%autoreload 2"
   ]
  },
  {
   "cell_type": "code",
   "execution_count": null,
   "id": "e60e5283-5b7a-4793-9935-81104de4d5b4",
   "metadata": {},
   "outputs": [],
   "source": [
    "VARIOGRAM_COLORS = [\n",
    "    'royalblue', 'peru', 'teal', 'lightcoral', 'blueviolet', 'springgreen', 'gold', 'orchid'\n",
    "]\n",
    "worker_spec=dict(cores=6, memory=400)"
   ]
  },
  {
   "cell_type": "markdown",
   "id": "4b8258b0-ce3e-4894-8bc9-8b1f975bcd44",
   "metadata": {},
   "source": [
    "https://scikit-gstat.readthedocs.io/en/latest/userguide/variogram.html  \n",
    "https://xdem.readthedocs.io/en/stable/robust_estimators.html#robuststats-corr"
   ]
  },
  {
   "cell_type": "markdown",
   "id": "87dc8324-8c40-4f92-b796-8329da98793a",
   "metadata": {},
   "source": [
    "# Notes\n",
    "The sill of the variogram should correspond with the field variance"
   ]
  },
  {
   "cell_type": "markdown",
   "id": "4bfe9055-ceff-48a9-a5e6-1525d0fa7cb4",
   "metadata": {},
   "source": [
    "## Below number units are in meters"
   ]
  },
  {
   "cell_type": "code",
   "execution_count": null,
   "id": "424a413b-0c54-4d2e-807f-472bc5e2e870",
   "metadata": {},
   "outputs": [],
   "source": [
    "resolution=1\n",
    "sample_distance=10\n",
    "buffer=1000\n",
    "max_lag = 400"
   ]
  },
  {
   "cell_type": "code",
   "execution_count": null,
   "id": "6390c6fd-bd38-4558-b69e-f0afec26d4f0",
   "metadata": {},
   "outputs": [],
   "source": [
    "ALL_RANGES = {}\n",
    "ALL_MEDIANS = {}"
   ]
  },
  {
   "cell_type": "code",
   "execution_count": null,
   "id": "eb13753c-136d-4353-b6f6-c7c6967f4a6e",
   "metadata": {},
   "outputs": [],
   "source": [
    "def elevation_bins_index(resolution, x_y_slice):\n",
    "    \"\"\"\n",
    "    Generate elevation band bins. All data is flattened to a 1-d array\n",
    "\n",
    "    Returns: \n",
    "        * Array of elevation masks used for filtering\n",
    "        * Array of used elevation bins\n",
    "        * Array of all elevations (flattened from DEM)\n",
    "    \"\"\"\n",
    "    dem = load_dem(resolution).sel(x=x_y_slice[0], y=x_y_slice[1])\n",
    "    \n",
    "    elevations = dem.values.flatten()\n",
    "    # Drop negative\n",
    "    elevations = elevations[elevations > 0]\n",
    "    \n",
    "    bins = np.arange(\n",
    "        np.floor(elevations.min() / 10) * 10, \n",
    "        np.ceil(elevations.max() / 10) * 10, \n",
    "        10\n",
    "    )\n",
    "\n",
    "    # Elevation bin masks\n",
    "    indices = []\n",
    "    for i in range(len(bins)):\n",
    "        if(bins[i] != bins.max()):\n",
    "            index = np.where(\n",
    "                (elevations >= bins[i]) & (elevations < bins[i + 1])\n",
    "            )\n",
    "        else:\n",
    "            index = np.where(elevations >= bins[i])\n",
    "            \n",
    "        indices.append(index)\n",
    "    \n",
    "    return indices, bins, elevations"
   ]
  },
  {
   "cell_type": "code",
   "execution_count": null,
   "id": "523a561f-258f-4ff1-adf5-3224b3649945",
   "metadata": {},
   "outputs": [],
   "source": [
    "def boxplot_detrend_plane(\n",
    "    sample, dem_indices, elevations, dem_bins, ax, ax1\n",
    "):\n",
    "    detrended, _x, _y, _median_depth = detrend_plane(sample)\n",
    "    values = detrended.flatten()\n",
    "\n",
    "    bin_values = []\n",
    "    for index in dem_indices:\n",
    "        bin_vals = values[index]\n",
    "        bin_values.append(bin_vals[~np.isnan(bin_vals)])\n",
    "\n",
    "    return bin_values\n",
    "    \n",
    "\n",
    "def plot_box_plots(\n",
    "    sample, elevations, dem_indices, dem_bins, ax, ax1\n",
    "):  \n",
    "    values = sample.values.flatten()\n",
    "    # Original depths\n",
    "    bin_values = []\n",
    "    for index in dem_indices:\n",
    "        bin_vals = values[index]\n",
    "        bin_values.append(bin_vals[~np.isnan(bin_vals)])\n",
    "    \n",
    "    x_pos = np.arange(0, len(dem_bins), 1)\n",
    "\n",
    "    boxplot = ax.boxplot(\n",
    "        bin_values, positions=x_pos, showfliers=False, showmeans=False\n",
    "    )\n",
    "\n",
    "    # Detrended dephts\n",
    "    residual_bins = boxplot_detrend_plane(\n",
    "        sample, dem_indices, elevations, dem_bins, ax, ax1\n",
    "    )\n",
    "    \n",
    "    ax1.boxplot(\n",
    "        residual_bins, positions=x_pos, showfliers=False, showmeans=False\n",
    "    )\n",
    "    ax1.axhline(\n",
    "        y=0, color='blue', linestyle='--', linewidth=1.5, label='y=0.5'\n",
    "    )\n",
    "    \n",
    "    # Style\n",
    "    for axes in [ax, ax1]:\n",
    "        axes.set_xticks(\n",
    "            x_pos[::3], [int(dem) for dem in dem_bins][::3], \n",
    "            fontsize=6, rotation=-45, va='top'\n",
    "        )\n",
    "        axes.tick_params(axis='x', which='major', pad=0)\n",
    "        axes.xaxis.set_minor_locator(AutoMinorLocator(3))\n",
    "\n",
    "    return np.ravel(np.concatenate(residual_bins))"
   ]
  },
  {
   "cell_type": "code",
   "execution_count": null,
   "id": "c70c0484-f3a1-499c-968e-23f104580136",
   "metadata": {
    "editable": true,
    "slideshow": {
     "slide_type": ""
    },
    "tags": []
   },
   "outputs": [],
   "source": [
    "def plot_sample(flight, resolution, x_y_slice):\n",
    "    dem_indices, dem_bins, elevations = elevation_bins_index(resolution, x_y_slice)\n",
    "    sample = sample_from_flight(flight, resolution, x_y_slice)\n",
    "    \n",
    "    fig, ((ax1, ax2), (ax3, ax4), (ax5, ax6)) = plt.subplots(\n",
    "        ncols=2, nrows=3, figsize=(6,8), dpi=200, sharey='row'\n",
    "    )\n",
    "    ax2._shared_axes['y'].remove(ax1)\n",
    "    ax2._shared_axes['x'].remove(ax1)\n",
    "\n",
    "    # Overview image\n",
    "    sample.plot(cmap='Blues', ax=ax1, vmin=0, vmax=4)\n",
    "    ax1.set_xlabel('')\n",
    "    ax1.set_ylabel('')\n",
    "    ax1.set_yticklabels([])\n",
    "    # Elevation histogram\n",
    "    ax2.hist(\n",
    "        elevations, bins=100,\n",
    "        density=True, histtype='step', color='green', alpha=0.6\n",
    "    )\n",
    "    ax2.set_title('Elevations (m)')\n",
    "    x_ticks = np.arange(\n",
    "        int(np.floor(elevations.min() / 10) * 10), \n",
    "        int(np.ceil(elevations.max() / 10) * 10) + 100, \n",
    "        100\n",
    "    )\n",
    "    ax2.set_xticks(\n",
    "        x_ticks, x_ticks, fontsize=8\n",
    "    )\n",
    "    # Boxplot\n",
    "    residuals = plot_box_plots(\n",
    "        sample, elevations, dem_indices, dem_bins, ax3, ax4\n",
    "    )\n",
    "\n",
    "    ax3.set_ylim(-1.5, 4)\n",
    "    ax3.set_ylabel('Depth (m)')\n",
    "    ax3.set_xlabel('Elevation (m)')\n",
    "\n",
    "    # Histogram\n",
    "    # # Original depth\n",
    "    ax5.hist(\n",
    "        sample.values.flatten(), bins=np.arange(0, 4.1, 0.1), \n",
    "        density=True, histtype='step', color='blue', alpha=0.6\n",
    "    )\n",
    "    ax5.set_ylabel('Probability Density')\n",
    "    ax5.set_xlabel('Depth (m)')\n",
    "    # # Detrended depths\n",
    "    ax6.hist(\n",
    "        residuals, bins=np.arange(-1.1, 1.2, 0.05), \n",
    "        density=True, histtype='step', color='blue', alpha=0.6\n",
    "    )\n",
    "        \n",
    "    ax1.set_title(flight)\n",
    "    plt.tight_layout()"
   ]
  },
  {
   "cell_type": "code",
   "execution_count": null,
   "id": "38f8d1e9-a988-4d4d-a37d-5d7c3996422d",
   "metadata": {},
   "outputs": [],
   "source": [
    "def plot_variograms(variograms, title):\n",
    "    plt.figure(figsize=(6, 4), dpi=200)\n",
    "    ax = plt.gca()\n",
    "    \n",
    "    x = np.linspace(0, max_lag, max_lag, + 1)\n",
    "    \n",
    "    # for dataframe\n",
    "    rmse = []\n",
    "    eff_range = []\n",
    "    medians = []\n",
    "    \n",
    "    for idx, variogram in enumerate(variograms):\n",
    "        ax.plot(x, variogram[0].fitted_model(x), label=ACCUMULATION_FLIGHTS[idx], lw=.7, color=VARIOGRAM_COLORS[idx])\n",
    "        ax.scatter(variogram[0].bins, variogram[0].experimental, marker='x', color=VARIOGRAM_COLORS[idx], lw=.7, s=10)\n",
    "\n",
    "        rmse.append(\"%.4f\" % variogram[1])\n",
    "        eff_range.append(\"%.2f\" % variogram[2])\n",
    "        medians.append(variogram[-1])\n",
    "\n",
    "    display(pd.DataFrame({\n",
    "            'RMSE': rmse,\n",
    "            'Effective Range': eff_range\n",
    "        }, index=ACCUMULATION_FLIGHTS\n",
    "    ))\n",
    "   \n",
    "    # ax.set_xticks(np.arange(0, x.max(), resolution))\n",
    "    # for label in ax.xaxis.get_ticklabels()[::2]:\n",
    "    #     label.set_visible(False)\n",
    "\n",
    "    at = AnchoredText(\n",
    "        title, \n",
    "        prop=dict(size=10), \n",
    "        frameon=True, \n",
    "        loc='upper left', \n",
    "        pad=0.3, \n",
    "        borderpad=0.25,\n",
    "    )\n",
    "    ax.add_artist(at)\n",
    "        \n",
    "    ax.grid(which='major', axis='x', ls='--', alpha=0.6)\n",
    "    # ax.set_xscale('log')\n",
    "    ax.set_xlim(sample_distance, x.max() + 10) # buffer the end\n",
    "    # ax.set_yscale('log')\n",
    "    ax.set_xlabel(\"Lag distance (m)\")\n",
    "    ax.set_ylabel(\"Dowd semi-variance\")\n",
    "    \n",
    "    ax.legend(ncols=3, loc='upper center', bbox_to_anchor=(0.5, 1.25))\n",
    "\n",
    "    return eff_range, medians"
   ]
  },
  {
   "cell_type": "markdown",
   "id": "311ce9a1-2a87-4797-a72d-3b37f9ed50cc",
   "metadata": {},
   "source": [
    "## Center of flight box"
   ]
  },
  {
   "cell_type": "code",
   "execution_count": null,
   "id": "8a1bc6d5-60e5-4157-b3c3-dc97c685f2ef",
   "metadata": {},
   "outputs": [],
   "source": [
    "flight_data = load_flight_tif(ACCUMULATION_FLIGHTS[0], resolution)\n",
    "\n",
    "center = flight_data.sel(\n",
    "    x=flight_data.x.mean(), y=flight_data.y.mean(), method='nearest'\n",
    ")"
   ]
  },
  {
   "cell_type": "code",
   "execution_count": null,
   "id": "2bd68dc1-0796-4298-a2c5-a1b2c1611239",
   "metadata": {},
   "outputs": [],
   "source": [
    "dem = load_dem(resolution)\n",
    "plt.figure(figsize=(6,5), dpi=200)\n",
    "dem.plot(cmap='gist_earth', vmin=1000);\n",
    "\n",
    "box_opts = dict(\n",
    "   facecolor='none', edgecolor='red', lw=1, ls='--' \n",
    ")\n",
    "\n",
    "# Center\n",
    "center_b = mpatches.Rectangle(\n",
    "    (float(center.x - buffer), float(center.y - buffer)), 2*buffer, 2*buffer, **box_opts\n",
    ")\n",
    "plt.gca().add_patch(center_b)\n",
    "plt.gca().text(center.x - 500, center.y - 100, 'Center', color='red', fontsize=10)\n",
    "# Left\n",
    "left_b = mpatches.Rectangle(\n",
    "    (float(center.x - 3 * buffer), float(center.y - buffer)), 2*buffer, 2*buffer, **box_opts\n",
    ")\n",
    "plt.gca().add_patch(left_b)\n",
    "\n",
    "# Right\n",
    "right_b = mpatches.Rectangle(\n",
    "    (float(center.x + buffer), float(center.y - buffer)), 2*buffer, 2*buffer, **box_opts\n",
    ")\n",
    "plt.gca().add_patch(right_b)\n",
    "\n",
    "# Top\n",
    "top_b = mpatches.Rectangle(\n",
    "    (float(center.x - buffer), float(center.y + buffer)), 2*buffer, 2*buffer, **box_opts\n",
    ")\n",
    "plt.gca().add_patch(top_b)\n",
    "\n",
    "# Bottom\n",
    "bottom_b = mpatches.Rectangle(\n",
    "    (float(center.x - buffer), float(center.y - 3 * buffer)), 2*buffer, 2*buffer, **box_opts\n",
    ")\n",
    "plt.gca().add_patch(bottom_b);"
   ]
  },
  {
   "cell_type": "markdown",
   "id": "a9d7cd8f-902e-4ea8-93c0-1f54662b228e",
   "metadata": {},
   "source": [
    "## Center analysis"
   ]
  },
  {
   "cell_type": "code",
   "execution_count": null,
   "id": "e1ca2f71-e025-43f4-b24a-a0f4cd6f540e",
   "metadata": {},
   "outputs": [],
   "source": [
    "label = 'Center'\n",
    "x_y_slice = [\n",
    "    slice(center.x - buffer, center.x + buffer), \n",
    "    slice(center.y + buffer, center.y - buffer)\n",
    "]"
   ]
  },
  {
   "cell_type": "code",
   "execution_count": null,
   "id": "42ffbfa6-20b8-4ae7-84d6-4cfc9aba274b",
   "metadata": {},
   "outputs": [],
   "source": [
    "for flight in ACCUMULATION_FLIGHTS:\n",
    "    plot_sample(flight, resolution, x_y_slice) "
   ]
  },
  {
   "cell_type": "markdown",
   "id": "6058207b-dda0-412b-a626-351a983351b1",
   "metadata": {},
   "source": [
    "### Plane Fit"
   ]
  },
  {
   "cell_type": "code",
   "execution_count": null,
   "id": "b5c75e51-f6c9-489e-8a5c-0e3d5844823a",
   "metadata": {},
   "outputs": [],
   "source": [
    "with run_with_client(**worker_spec):\n",
    "    variograms = dask.compute(\n",
    "        [\n",
    "            variogram_plane_fit(flight, resolution, x_y_slice, max_lag, sample_distance) \n",
    "            for flight in ACCUMULATION_FLIGHTS\n",
    "        ]\n",
    "    )[0]"
   ]
  },
  {
   "cell_type": "code",
   "execution_count": null,
   "id": "7be57f70-fa2d-419b-a269-116829e685c5",
   "metadata": {},
   "outputs": [],
   "source": [
    "data = plot_variograms(variograms, label)\n",
    "ALL_RANGES[label] = data[0]\n",
    "ALL_MEDIANS[label] = data[1]"
   ]
  },
  {
   "cell_type": "markdown",
   "id": "b923cbbd-e76d-4870-abbf-8771b81dd4bd",
   "metadata": {},
   "source": [
    "## Left of center"
   ]
  },
  {
   "cell_type": "code",
   "execution_count": null,
   "id": "945d6e1f-4c40-4b4d-b3f1-7f20e53ba92f",
   "metadata": {},
   "outputs": [],
   "source": [
    "label = 'Left of center'\n",
    "x_y_slice = [\n",
    "    slice(center.x - 3 * buffer, center.x - buffer), \n",
    "    slice(center.y + buffer, center.y - buffer)\n",
    "]"
   ]
  },
  {
   "cell_type": "code",
   "execution_count": null,
   "id": "82c3bb40-9f0c-42d5-9581-681eb0fbad04",
   "metadata": {},
   "outputs": [],
   "source": [
    "for flight in ACCUMULATION_FLIGHTS:\n",
    "    plot_sample(flight, resolution, x_y_slice) "
   ]
  },
  {
   "cell_type": "markdown",
   "id": "1b4468bd-7f7a-40c7-9098-2e912d9d5f39",
   "metadata": {},
   "source": [
    "### Plane Fit"
   ]
  },
  {
   "cell_type": "code",
   "execution_count": null,
   "id": "615b2353-e464-4b8f-ad56-c7b2dd17988b",
   "metadata": {},
   "outputs": [],
   "source": [
    "with run_with_client(**worker_spec):\n",
    "    variograms = dask.compute(\n",
    "        [\n",
    "            variogram_plane_fit(flight, resolution, x_y_slice, max_lag, sample_distance) \n",
    "            for flight in ACCUMULATION_FLIGHTS\n",
    "        ]\n",
    "    )[0]"
   ]
  },
  {
   "cell_type": "code",
   "execution_count": null,
   "id": "b571f686-ef4b-4dd5-ab77-91c01c0dc1e7",
   "metadata": {},
   "outputs": [],
   "source": [
    "data = plot_variograms(variograms, label)\n",
    "ALL_RANGES[label] = data[0]\n",
    "ALL_MEDIANS[label] = data[1]"
   ]
  },
  {
   "cell_type": "markdown",
   "id": "1d2c9160-d02a-4710-9660-61ab583a37f4",
   "metadata": {},
   "source": [
    "## Right of center"
   ]
  },
  {
   "cell_type": "code",
   "execution_count": null,
   "id": "f84374f8-229e-4439-a0ae-b823e929f873",
   "metadata": {},
   "outputs": [],
   "source": [
    "label = 'Right of center'\n",
    "x_y_slice = [\n",
    "    slice(center.x + buffer, center.x + 3 * buffer), \n",
    "    slice(center.y + buffer, center.y - buffer)\n",
    "]"
   ]
  },
  {
   "cell_type": "code",
   "execution_count": null,
   "id": "314fd0ac-326f-48ba-a4dd-8bf2163aa60b",
   "metadata": {},
   "outputs": [],
   "source": [
    "for flight in ACCUMULATION_FLIGHTS:\n",
    "    plot_sample(flight, resolution, x_y_slice) "
   ]
  },
  {
   "cell_type": "markdown",
   "id": "7930e780-5a22-4ccc-ba66-70bac7028586",
   "metadata": {},
   "source": [
    "### Plane Fit"
   ]
  },
  {
   "cell_type": "code",
   "execution_count": null,
   "id": "b450ff10-d3bb-4509-829a-04b52b888be1",
   "metadata": {},
   "outputs": [],
   "source": [
    "with run_with_client(**worker_spec):\n",
    "    variograms = dask.compute(\n",
    "        [\n",
    "            variogram_plane_fit(flight, resolution, x_y_slice, max_lag, sample_distance) \n",
    "            for flight in ACCUMULATION_FLIGHTS\n",
    "        ]\n",
    "    )[0]"
   ]
  },
  {
   "cell_type": "code",
   "execution_count": null,
   "id": "c4364ff7-2347-4e0b-8ca7-e489c88d1464",
   "metadata": {},
   "outputs": [],
   "source": [
    "data = plot_variograms(variograms, label)\n",
    "ALL_RANGES[label] = data[0]\n",
    "ALL_MEDIANS[label] = data[1]"
   ]
  },
  {
   "cell_type": "markdown",
   "id": "7a3fea77-c173-4c1d-b904-0c70476a08b8",
   "metadata": {},
   "source": [
    "## Top of center"
   ]
  },
  {
   "cell_type": "code",
   "execution_count": null,
   "id": "d19f03ba-d72b-479d-b49a-08ec25c52d39",
   "metadata": {},
   "outputs": [],
   "source": [
    "label = 'Top of center'\n",
    "x_y_slice = [\n",
    "    slice(center.x - buffer, center.x + buffer), \n",
    "    slice(center.y + 3 * buffer, center.y + buffer)\n",
    "]"
   ]
  },
  {
   "cell_type": "code",
   "execution_count": null,
   "id": "bab6e886-a2b9-43e5-96e5-d988319b3773",
   "metadata": {},
   "outputs": [],
   "source": [
    "for flight in ACCUMULATION_FLIGHTS:\n",
    "    plot_sample(flight, resolution, x_y_slice) "
   ]
  },
  {
   "cell_type": "markdown",
   "id": "9bc8ecc8-de7c-44ac-89f3-7e603d0e94e6",
   "metadata": {},
   "source": [
    "### Plane Fit"
   ]
  },
  {
   "cell_type": "code",
   "execution_count": null,
   "id": "85c89127-6860-4595-8292-e47e996c1c51",
   "metadata": {},
   "outputs": [],
   "source": [
    "with run_with_client(**worker_spec):\n",
    "    variograms = dask.compute(\n",
    "        [\n",
    "            variogram_plane_fit(flight, resolution, x_y_slice, max_lag, sample_distance) \n",
    "            for flight in ACCUMULATION_FLIGHTS\n",
    "        ]\n",
    "    )[0]"
   ]
  },
  {
   "cell_type": "code",
   "execution_count": null,
   "id": "14c9546e-158c-4efa-ad26-c817a1d5a0b3",
   "metadata": {},
   "outputs": [],
   "source": [
    "data = plot_variograms(variograms, label)\n",
    "ALL_RANGES[label] = data[0]\n",
    "ALL_MEDIANS[label] = data[1]"
   ]
  },
  {
   "cell_type": "markdown",
   "id": "39de5efa-d5a1-40cd-a3e6-bf2b7e587ef7",
   "metadata": {},
   "source": [
    "## Bottom of center"
   ]
  },
  {
   "cell_type": "code",
   "execution_count": null,
   "id": "2407406a-a268-4b71-b64c-1f7c65ebbedb",
   "metadata": {},
   "outputs": [],
   "source": [
    "label = 'Bottom of center'\n",
    "x_y_slice = [\n",
    "    slice(center.x - buffer, center.x + buffer), \n",
    "    slice(center.y - buffer, center.y - 3 * buffer)\n",
    "]"
   ]
  },
  {
   "cell_type": "code",
   "execution_count": null,
   "id": "0515294f-7c07-4eb4-b884-f11fda701826",
   "metadata": {},
   "outputs": [],
   "source": [
    "for flight in ACCUMULATION_FLIGHTS:\n",
    "    plot_sample(flight, resolution, x_y_slice) "
   ]
  },
  {
   "cell_type": "markdown",
   "id": "127868c7-f107-4cb7-85b7-7fba964e0523",
   "metadata": {},
   "source": [
    "### Plane Fit"
   ]
  },
  {
   "cell_type": "code",
   "execution_count": null,
   "id": "79a4c92a-a4a2-4cbc-8cf5-3b8852203d75",
   "metadata": {},
   "outputs": [],
   "source": [
    "with run_with_client(**worker_spec):\n",
    "    variograms = dask.compute(\n",
    "        [\n",
    "            variogram_plane_fit(flight, resolution, x_y_slice, max_lag, sample_distance) \n",
    "            for flight in ACCUMULATION_FLIGHTS\n",
    "        ]\n",
    "    )[0]"
   ]
  },
  {
   "cell_type": "code",
   "execution_count": null,
   "id": "3fee02b2-c360-4e6c-86f6-a22db240c2d0",
   "metadata": {},
   "outputs": [],
   "source": [
    "data = plot_variograms(variograms, label)\n",
    "ALL_RANGES[label] = data[0]\n",
    "ALL_MEDIANS[label] = data[1]"
   ]
  },
  {
   "cell_type": "markdown",
   "id": "112582a1-1590-43a9-ba62-7a13211597e6",
   "metadata": {},
   "source": [
    "## Overview of all ranges"
   ]
  },
  {
   "cell_type": "code",
   "execution_count": null,
   "id": "993e4812-962b-499c-979c-acb76827d013",
   "metadata": {},
   "outputs": [],
   "source": [
    "display(\n",
    "    pd.DataFrame(\n",
    "        ALL_RANGES, index=ACCUMULATION_FLIGHTS\n",
    "    )\n",
    ")"
   ]
  },
  {
   "cell_type": "code",
   "execution_count": null,
   "id": "63e024b3-5498-43bf-902e-e6b5ed25f1c8",
   "metadata": {},
   "outputs": [],
   "source": [
    "display(\n",
    "    pd.DataFrame(\n",
    "        ALL_MEDIANS, index=ACCUMULATION_FLIGHTS\n",
    "    )\n",
    ")"
   ]
  }
 ],
 "metadata": {
  "kernelspec": {
   "display_name": "Snow Viz",
   "language": "python",
   "name": "snow_viz"
  },
  "language_info": {
   "codemirror_mode": {
    "name": "ipython",
    "version": 3
   },
   "file_extension": ".py",
   "mimetype": "text/x-python",
   "name": "python",
   "nbconvert_exporter": "python",
   "pygments_lexer": "ipython3",
   "version": "3.12.5"
  }
 },
 "nbformat": 4,
 "nbformat_minor": 5
}
