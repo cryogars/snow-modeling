{
 "cells": [
  {
   "cell_type": "code",
   "execution_count": null,
   "id": "2069a440-52cd-483b-b5e8-3ef8404e9074",
   "metadata": {},
   "outputs": [],
   "source": [
    "import math\n",
    "import numpy as np\n",
    "import dask\n",
    "\n",
    "from scipy.stats import gaussian_kde\n",
    "\n",
    "from common import *\n",
    "from mcs_shared import load_als_depth, load_isnobal_depth, load_factors_tif, \\\n",
    "    ACCUMULATION_FLIGHTS\n",
    "from snobedo.lib.dask_utils import run_with_client"
   ]
  },
  {
   "cell_type": "code",
   "execution_count": null,
   "id": "5b8899b0-a708-4cc3-98fb-6aabfa776de7",
   "metadata": {},
   "outputs": [],
   "source": [
    "%load_ext autoreload\n",
    "%autoreload 2"
   ]
  },
  {
   "cell_type": "markdown",
   "id": "3979fe6f-a1ae-42f7-9dbb-3296f90305b3",
   "metadata": {},
   "source": [
    "## Notes\n",
    "\n",
    "* Resolution: 100m\n",
    "* ALS depth filtered to 0.1m and 5m\n",
    "    * Depths below 0.1m had factors in the thousands\n",
    "* Each day is reduced to only pixels with measured ALS depths"
   ]
  },
  {
   "cell_type": "markdown",
   "id": "4c8f9de7-631b-4509-aa4e-a0bada017127",
   "metadata": {},
   "source": [
    "## Snow Depth Map resolution"
   ]
  },
  {
   "cell_type": "code",
   "execution_count": null,
   "id": "2284b442-32dc-441b-9c0e-6dc8d20e8ee7",
   "metadata": {},
   "outputs": [],
   "source": [
    "RESOLUTION = 10 # meters\n",
    "\n",
    "COLORS = [\n",
    "    'royalblue', 'peru', 'chartreuse', 'lightcoral', 'blueviolet', 'seagreen'\n",
    "]\n",
    "COLOR_MAP = { flight: COLORS[idx] for idx, flight in enumerate(ACCUMULATION_FLIGHTS) }\n",
    "\n",
    "WORKERS=dict(cores=6, memory=30)"
   ]
  },
  {
   "cell_type": "markdown",
   "id": "472d6598-5707-4e6c-b3a9-94530a9abfa1",
   "metadata": {},
   "source": [
    "## Get common area across all flights"
   ]
  },
  {
   "cell_type": "code",
   "execution_count": null,
   "id": "f153e93f-eb2c-4e45-8429-0db791e743f2",
   "metadata": {},
   "outputs": [],
   "source": [
    "pd.options.plotting.backend = 'matplotlib'"
   ]
  },
  {
   "cell_type": "code",
   "execution_count": null,
   "id": "8c061830-3081-4ab7-81b7-8b2bb27636c1",
   "metadata": {},
   "outputs": [],
   "source": [
    "@dask.delayed\n",
    "def kde_density(data):\n",
    "    kde = gaussian_kde(data)\n",
    "    x = np.linspace(0, 5, 500)\n",
    "    density = kde(x)\n",
    "    return x, density\n",
    "\n",
    "def plot_densities(density_data):\n",
    "    fig, ax = plt.subplots(dpi=300, figsize=(10, 4))\n",
    "    \n",
    "    for flight, data in density_data.items():\n",
    "        ax.plot(\n",
    "            data[0], data[1], \n",
    "            label=pd.to_datetime(flight).strftime('%Y-%m-%d'),\n",
    "            lw=1, color=COLOR_MAP[flight], alpha=0.8\n",
    "        )\n",
    "    return ax"
   ]
  },
  {
   "cell_type": "code",
   "execution_count": null,
   "id": "6fe4ba2c-d214-4bf5-b962-dfc4a46600bf",
   "metadata": {},
   "outputs": [],
   "source": [
    "def load_data(flights):\n",
    "    als_depth = {}\n",
    "    isnobal_depth = {}\n",
    "    factor_maps = {}\n",
    "\n",
    "    for flight in flights:\n",
    "        als = load_als_depth(flight, RESOLUTION)\n",
    "        isnobal = load_isnobal_depth(flight, RESOLUTION)\n",
    "        factors = load_factors_tif(flight, RESOLUTION)\n",
    "\n",
    "        # Mask to common area\n",
    "        mask = np.isnan(factors)\n",
    "        als = als[~mask]\n",
    "        isnobal = isnobal[~mask]\n",
    "        factors = factors[~mask]\n",
    "        \n",
    "        date = pd.to_datetime(flight).strftime('%Y-%m-%d')\n",
    "\n",
    "        isnobal_depth[flight] = pd.Series(isnobal.flatten(), name=date)\n",
    "        als_depth[flight] = pd.Series(als.flatten(), name=date)\n",
    "        factor_maps[flight] = pd.Series(factors.flatten(), name=date)\n",
    "\n",
    "    return als_depth, isnobal_depth, factor_maps"
   ]
  },
  {
   "cell_type": "code",
   "execution_count": null,
   "id": "289c8f83-69f1-4d18-8dbb-0def08ee4ad2",
   "metadata": {},
   "outputs": [],
   "source": [
    "als_depths, isnobal_depths, factors = load_data(ACCUMULATION_FLIGHTS)"
   ]
  },
  {
   "cell_type": "markdown",
   "id": "a3aa3c71-4ded-4865-8441-f0d87704d4cf",
   "metadata": {},
   "source": [
    "## ALS Depths"
   ]
  },
  {
   "cell_type": "code",
   "execution_count": null,
   "id": "22121866-11a9-40b5-bdc8-37b65f20437a",
   "metadata": {},
   "outputs": [],
   "source": [
    "with run_with_client(**WORKERS):\n",
    "    densities = dask.compute({\n",
    "        date: kde_density(ds.values) for date, ds in als_depths.items()\n",
    "    })[0]"
   ]
  },
  {
   "cell_type": "code",
   "execution_count": null,
   "id": "ad4af70b-b6d4-446a-8cc0-a3db5405f4a3",
   "metadata": {},
   "outputs": [],
   "source": [
    "ax = plot_densities(densities)\n",
    "ax.set_xlim(0, 4.5)\n",
    "ax.set_xlabel('Snow Depth (m)')\n",
    "ax.set_ylim(-0.05, 2)\n",
    "ax.set_ylabel('Densities')\n",
    "ax.set_title(\"ALS flights\")\n",
    "ax.legend();"
   ]
  },
  {
   "cell_type": "code",
   "execution_count": null,
   "id": "6cf2f43a-73d3-43e9-a7c5-db53266f3967",
   "metadata": {},
   "outputs": [],
   "source": [
    "df_als = pd.concat(als_depths, axis=1)\n",
    "df_als.describe(percentiles=[0.01, 0.5, 0.99])"
   ]
  },
  {
   "cell_type": "markdown",
   "id": "293f7bb9-a144-4425-a821-686470d624fc",
   "metadata": {},
   "source": [
    "### Normalized $\\frac{depth_i}{mean_{depth}}$"
   ]
  },
  {
   "cell_type": "code",
   "execution_count": null,
   "id": "9a0e6e39-38f8-4e1e-8efc-25d2223a156f",
   "metadata": {},
   "outputs": [],
   "source": [
    "with run_with_client(**WORKERS):\n",
    "    densities = dask.compute({\n",
    "        date: kde_density(ds.values/ds.mean()) for date, ds in als_depths.items()\n",
    "    })[0]"
   ]
  },
  {
   "cell_type": "code",
   "execution_count": null,
   "id": "589064aa-4fbe-416f-b9a5-b9ea793f3bc3",
   "metadata": {},
   "outputs": [],
   "source": [
    "ax = plot_densities(densities)\n",
    "ax.set_xlim(0,2)\n",
    "ax.set_xlabel('ALS - Normalized Depth')\n",
    "ax.set_ylim(-0.05, 2)\n",
    "ax.set_ylabel('Densities')\n",
    "ax.set_title(\"ALS flights\")\n",
    "ax.legend();"
   ]
  },
  {
   "cell_type": "markdown",
   "id": "bf4c6b21-3c52-46d7-a2f7-3f34cde870b1",
   "metadata": {},
   "source": [
    "## Model Depths"
   ]
  },
  {
   "cell_type": "code",
   "execution_count": null,
   "id": "3f020f76-bf56-4172-a101-c13dc508bd0c",
   "metadata": {},
   "outputs": [],
   "source": [
    "with run_with_client(**WORKERS):\n",
    "    densities = dask.compute({\n",
    "        date: kde_density(ds.values) for date, ds in isnobal_depths.items()\n",
    "    })[0]"
   ]
  },
  {
   "cell_type": "code",
   "execution_count": null,
   "id": "18873c57-8bb2-4ac9-916e-7db8dda560d5",
   "metadata": {},
   "outputs": [],
   "source": [
    "ax = plot_densities(densities)\n",
    "ax.set_xlim(0, 4.5)\n",
    "ax.set_xlabel('Snow Depth (m)')\n",
    "ax.set_ylim(-0.05, 3.5)\n",
    "ax.set_ylabel('Densities')\n",
    "ax.set_title(\"iSnobal Depths\")\n",
    "ax.legend();"
   ]
  },
  {
   "cell_type": "markdown",
   "id": "d80cd9a3-ccf3-483b-844b-8a0741c217d3",
   "metadata": {},
   "source": [
    "### Normalized $\\frac{depth_i}{mean_{depth}}$"
   ]
  },
  {
   "cell_type": "code",
   "execution_count": null,
   "id": "ee7695ab-bc04-43fd-91ef-0890c9a2c3cf",
   "metadata": {},
   "outputs": [],
   "source": [
    "with run_with_client(**WORKERS):\n",
    "    densities = dask.compute({\n",
    "        date: kde_density(ds.values/ds.mean()) for date, ds in isnobal_depths.items()\n",
    "    })[0]"
   ]
  },
  {
   "cell_type": "code",
   "execution_count": null,
   "id": "5a594617-428d-4330-9040-2ab03be6dcab",
   "metadata": {},
   "outputs": [],
   "source": [
    "ax = plot_densities(densities)\n",
    "ax.set_xlim(0,2)\n",
    "ax.set_xlabel('iSnobal - Normalized Depth')\n",
    "ax.set_ylim(-0.05, 5.5)\n",
    "ax.set_ylabel('Densities')\n",
    "ax.set_title(\"iSnobal Depths\")\n",
    "ax.legend();"
   ]
  },
  {
   "cell_type": "code",
   "execution_count": null,
   "id": "ce97421c-d52b-4451-99f2-303afeab53cb",
   "metadata": {},
   "outputs": [],
   "source": [
    "df_isnobal = pd.concat(isnobal_depths, axis=1)"
   ]
  },
  {
   "cell_type": "code",
   "execution_count": null,
   "id": "30f2e391-85e8-4ef5-9cc1-599af021f622",
   "metadata": {},
   "outputs": [],
   "source": [
    "df_isnobal.describe(percentiles=[0.01, 0.5, 0.99])"
   ]
  },
  {
   "cell_type": "markdown",
   "id": "3d059803-1a8a-45a1-b41a-129bfc5c2806",
   "metadata": {},
   "source": [
    "## Factors"
   ]
  },
  {
   "cell_type": "code",
   "execution_count": null,
   "id": "b3a87db6-b4ac-4799-814e-c46a086d219c",
   "metadata": {},
   "outputs": [],
   "source": [
    "with run_with_client(**WORKERS):\n",
    "    densities = dask.compute({\n",
    "        date: kde_density(ds.values) for date, ds in factors.items()\n",
    "    })[0]"
   ]
  },
  {
   "cell_type": "code",
   "execution_count": null,
   "id": "b51e8e8c-a31e-48fc-91d6-d7ed796431ed",
   "metadata": {},
   "outputs": [],
   "source": [
    "ax = plot_densities(densities)\n",
    "ax.set_xlim(0.25, 3)\n",
    "ax.set_xlabel('Factors')\n",
    "ax.set_ylim(-0.05, 3.5)\n",
    "ax.set_ylabel('Densities')\n",
    "ax.set_title(\"Factors\")\n",
    "ax.legend();"
   ]
  },
  {
   "cell_type": "code",
   "execution_count": null,
   "id": "4ef51360-9e6b-4057-b735-f4a3f9996bc2",
   "metadata": {},
   "outputs": [],
   "source": [
    "df_factors = pd.concat(factors, axis=1)\n",
    "df_factors.describe(percentiles=[0.01, 0.5, 0.99])"
   ]
  },
  {
   "cell_type": "markdown",
   "id": "46b3a0b9-0212-4575-acf1-e12123f79454",
   "metadata": {},
   "source": [
    "## Holoviews"
   ]
  },
  {
   "cell_type": "code",
   "execution_count": null,
   "id": "4deb10dc-d2c8-4b5e-9f41-d5bdfbed6a86",
   "metadata": {},
   "outputs": [],
   "source": [
    "from holoviews import opts, Cycle"
   ]
  },
  {
   "cell_type": "code",
   "execution_count": null,
   "id": "c54ab1d5-c239-4602-927b-b9dfcaa3695e",
   "metadata": {},
   "outputs": [],
   "source": [
    "use_hvplot()"
   ]
  },
  {
   "cell_type": "markdown",
   "id": "ab30e759-c8e9-4ee5-95fc-696b72a79f1b",
   "metadata": {},
   "source": [
    "### Density plots "
   ]
  },
  {
   "cell_type": "code",
   "execution_count": null,
   "id": "4adea63e-7fcd-4cd6-bdbb-3fde636ce822",
   "metadata": {},
   "outputs": [],
   "source": [
    "def plot_flights(flights, normalized_depths, als_depth, title):\n",
    "    return hv.Layout([\n",
    "            hv.NdOverlay(\n",
    "                { flights[n]: hv.Distribution(normalized_depths[n]) for n in range(0, len(flights)) }\n",
    "            ).opts(\n",
    "                opts.Distribution(filled=False, line_color=Cycle())\n",
    "            ).opts(**HV_PLOT_OPTS, title='Depths', xlim=(0, 2), xlabel='Normalized Depth'),\n",
    "            hv.NdOverlay(\n",
    "                { \n",
    "                    flights[n]: hv.Distribution(factors[n]) for n in range(0, len(flights)) \n",
    "                }\n",
    "            ).opts(\n",
    "                opts.Distribution(filled=False, line_color=Cycle())\n",
    "            ).opts(**HV_PLOT_OPTS, title='Factors', xlabel='Factors'),\n",
    "            hv.NdOverlay(\n",
    "                { \n",
    "                    flights[n]: hv.Distribution(als_depths[n])\n",
    "                    for n in range(0, len(flights)) \n",
    "                }\n",
    "            ).opts(\n",
    "                opts.Distribution(filled=False, line_color=Cycle())\n",
    "            ).opts(**HV_PLOT_OPTS, title='Depths', xlim=(0, 4), xlabel='Depths')\n",
    "        ]).opts(shared_axes=False, title=title).cols(1)"
   ]
  },
  {
   "cell_type": "code",
   "execution_count": null,
   "id": "1fdac1ad-3279-4598-b2f3-5356e7d59f0f",
   "metadata": {},
   "outputs": [],
   "source": [
    "plot_flights(ACCUMULATION_FLIGHTS, normalized_depths, als_depth, \"Accumulation Flights\")"
   ]
  },
  {
   "cell_type": "markdown",
   "id": "d5f0618d-0e7c-4245-be07-6f5933d36f0a",
   "metadata": {},
   "source": [
    "## Gamma"
   ]
  },
  {
   "cell_type": "markdown",
   "id": "15e9c1b2-076f-4b42-8799-b8344aea772a",
   "metadata": {},
   "source": [
    "Plot CDF for depths "
   ]
  },
  {
   "cell_type": "code",
   "execution_count": null,
   "id": "c8135637-48f6-4a3b-885f-8b077bbd41b5",
   "metadata": {},
   "outputs": [],
   "source": [
    "from scipy import stats\n",
    "import pprint"
   ]
  },
  {
   "cell_type": "code",
   "execution_count": null,
   "id": "0c8dbb14-415b-454b-ab37-0ab21f7a33cd",
   "metadata": {},
   "outputs": [],
   "source": [
    "def fit_norm(flight, idx, x):\n",
    "    param = stats.norm.fit(flight)\n",
    "    return stats.norm.cdf(x, *param)"
   ]
  },
  {
   "cell_type": "code",
   "execution_count": null,
   "id": "5bd4d7a5-1fc4-4871-9347-43434e9f26b3",
   "metadata": {},
   "outputs": [],
   "source": [
    "def fit_gamma(flight, idx, x):\n",
    "    param = stats.gamma.fit(flight)\n",
    "    return stats.gamma.cdf(x, *param)    "
   ]
  },
  {
   "cell_type": "code",
   "execution_count": null,
   "id": "ca05e81a-cc93-48ad-9980-5803599aef24",
   "metadata": {},
   "outputs": [],
   "source": [
    "fig, ax = plt.subplots(dpi=300)\n",
    "\n",
    "for idx, flight in enumerate(factors):\n",
    "    ecdf_f = stats.ecdf(flight)\n",
    "    ecdf_f.cdf.plot(ax, label=f'{ACCUMULATION_FLIGHTS[idx]}')\n",
    "    # print(peak_als_depth[idx])\n",
    "    # pprint.pp(ecdf_f.cdf.quantiles)\n",
    "\n",
    "ax.set_title(\"ECDF\")\n",
    "ax.legend()\n",
    "plt.show()"
   ]
  },
  {
   "cell_type": "code",
   "execution_count": null,
   "id": "da3b14c3-3dc9-4d1a-81fd-3fc4f1d098bc",
   "metadata": {},
   "outputs": [],
   "source": []
  }
 ],
 "metadata": {
  "kernelspec": {
   "display_name": "Snow Viz",
   "language": "python",
   "name": "snow_viz"
  },
  "language_info": {
   "codemirror_mode": {
    "name": "ipython",
    "version": 3
   },
   "file_extension": ".py",
   "mimetype": "text/x-python",
   "name": "python",
   "nbconvert_exporter": "python",
   "pygments_lexer": "ipython3",
   "version": "3.12.5"
  }
 },
 "nbformat": 4,
 "nbformat_minor": 5
}
