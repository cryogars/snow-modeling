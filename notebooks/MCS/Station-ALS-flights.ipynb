{
 "cells": [
  {
   "cell_type": "code",
   "execution_count": null,
   "id": "b5ec6710-7d9c-4f9d-96c5-04127e8d494b",
   "metadata": {},
   "outputs": [],
   "source": [
    "import xarray as xr\n",
    "import numpy as np\n",
    "import pandas as pd\n",
    "\n",
    "from datetime import datetime\n",
    "\n",
    "from snobedo.lib.dask_utils import start_cluster, client_ip_and_port\n",
    "\n",
    "from mcs_shared import load_day, ALL_FLIGHT_DATES, load_snotel_locations, mcs_snotel_depth\n",
    "from common import *"
   ]
  },
  {
   "cell_type": "code",
   "execution_count": null,
   "id": "ba987f86-0def-42b0-906a-dc373050d047",
   "metadata": {},
   "outputs": [],
   "source": [
    "%load_ext autoreload\n",
    "%autoreload 2"
   ]
  },
  {
   "cell_type": "markdown",
   "id": "c1263950-dc32-4bc2-be48-4e98d6775469",
   "metadata": {},
   "source": [
    "## SNOTEL "
   ]
  },
  {
   "cell_type": "code",
   "execution_count": null,
   "id": "4cdd9e57-e95e-40a5-a28a-c08b1c087f89",
   "metadata": {},
   "outputs": [],
   "source": [
    "snotel_sites = load_snotel_locations()\n",
    "snotel_depth = mcs_snotel_depth(datetime(2020, 10, 1), datetime(2024, 7, 31))"
   ]
  },
  {
   "cell_type": "markdown",
   "id": "ccbf4af8-d2e8-41bd-88f1-11eb8c19161a",
   "metadata": {},
   "source": [
    "## Flights"
   ]
  },
  {
   "cell_type": "code",
   "execution_count": null,
   "id": "bb274c68-4913-43e9-9720-cef3589de872",
   "metadata": {},
   "outputs": [],
   "source": [
    "mcs_dates = [pd.to_datetime(date) for date in ALL_FLIGHT_DATES]"
   ]
  },
  {
   "cell_type": "code",
   "execution_count": null,
   "id": "67b7a12b-0eed-4728-b7e3-59a89d1458f6",
   "metadata": {},
   "outputs": [],
   "source": [
    "def get_flights(dates):\n",
    "    flights = []\n",
    "    means = []\n",
    "\n",
    "    for flight in dates:\n",
    "        mcs_als, isnobal, _diff, _flight_mask = load_day(flight)\n",
    "        mean = float(mcs_als.snowdepth.mean().values)\n",
    "        \n",
    "        means.append(mean)\n",
    "        flights.append(\n",
    "            mcs_als.sel(\n",
    "                x=snotel_sites.Mores_Creek_Summit.lon, \n",
    "                y=snotel_sites.Mores_Creek_Summit.lat,\n",
    "                method='nearest',\n",
    "            )       \n",
    "        )\n",
    "\n",
    "    return flights, means"
   ]
  },
  {
   "cell_type": "code",
   "execution_count": null,
   "id": "a1606e3a-c8e5-4aff-8c0f-c73d20d297fa",
   "metadata": {},
   "outputs": [],
   "source": [
    "mcs_als, means = get_flights(ALL_FLIGHT_DATES)"
   ]
  },
  {
   "cell_type": "code",
   "execution_count": null,
   "id": "b65e400a-7a4e-4c3f-883e-911c1cab2e59",
   "metadata": {},
   "outputs": [],
   "source": [
    "flight_values = [[date, float(flight.snowdepth)] for date, flight in zip(mcs_dates, mcs_als)]"
   ]
  },
  {
   "cell_type": "markdown",
   "id": "d35263cc-490c-49c4-bfb1-af9990dd9ec5",
   "metadata": {},
   "source": [
    "## Plots"
   ]
  },
  {
   "cell_type": "markdown",
   "id": "d60aea2d-7ff1-4f77-914b-0943ff7b28de",
   "metadata": {},
   "source": [
    "### Matplotlib"
   ]
  },
  {
   "cell_type": "code",
   "execution_count": null,
   "id": "08c2a6d4-ba35-4627-ab03-d8870be1ffc1",
   "metadata": {},
   "outputs": [],
   "source": [
    "als_values = [float(flight.snowdepth) for flight in mcs_als]"
   ]
  },
  {
   "cell_type": "code",
   "execution_count": null,
   "id": "a5af6224-b99b-4b39-8b4b-31ce78f8e689",
   "metadata": {},
   "outputs": [],
   "source": [
    "fig, ax = plt.subplots(dpi=300, figsize=(10,4))\n",
    "\n",
    "snotel_depth.plot(\n",
    "    label='Station', \n",
    "    ax=ax,\n",
    "    color='seagreen', lw=1\n",
    ")\n",
    "ax.scatter(\n",
    "    mcs_dates, als_values,\n",
    "    s=20,\n",
    "    color='black',\n",
    "    label='ALS',\n",
    "    zorder=10\n",
    ")\n",
    "ax.scatter(\n",
    "    [mcs_dates[4], mcs_dates[5], mcs_dates[6], mcs_dates[10]], [als_values[4], als_values[5], als_values[6], als_values[10]],\n",
    "    s=40,\n",
    "    color='orange',\n",
    "    zorder=10\n",
    ")\n",
    "ax.set_title('')\n",
    "\n",
    "ax.set_ylabel('Snow Depth (m)')\n",
    "ax.set_ylim(-0.1, 3)\n",
    "\n",
    "ax.set_xlabel('')\n",
    "ax.set_xlim(pd.to_datetime('2020-10-01'), pd.to_datetime('2024-07-31'))\n",
    "\n",
    "ax.legend(ncols=3);"
   ]
  },
  {
   "cell_type": "markdown",
   "id": "9618e45f-0a33-4460-a524-064ce8f7c9af",
   "metadata": {},
   "source": [
    "### Holoviews"
   ]
  },
  {
   "cell_type": "code",
   "execution_count": null,
   "id": "6bbed27a-486d-4760-90ed-98d76c581492",
   "metadata": {},
   "outputs": [],
   "source": [
    "use_hvplot()"
   ]
  },
  {
   "cell_type": "code",
   "execution_count": null,
   "id": "c106dca9-6d99-45db-90a2-c086d2cfb057",
   "metadata": {},
   "outputs": [],
   "source": [
    "hv.output(fig='auto', dpi=300)\n",
    "\n",
    "HV_PLOT_OPTS['ylabel'] = 'Snow Depth (m)'\n",
    "HV_PLOT_OPTS['xlabel'] = f'Water Year'\n",
    "\n",
    "y_lim = (-0.05, 3.)\n",
    "SNOTEL_LINE=dict(line_width=3)\n",
    "\n",
    "snotel_depth.plot(label='Station', **SNOTEL_LINE, ylim=y_lim, **HV_PLOT_OPTS) * \\\n",
    "hv.Points(flight_values, label='Airborne').opts(color='black', size=10, tools=['hover'])"
   ]
  }
 ],
 "metadata": {
  "kernelspec": {
   "display_name": "Snow Viz",
   "language": "python",
   "name": "snow_viz"
  },
  "language_info": {
   "codemirror_mode": {
    "name": "ipython",
    "version": 3
   },
   "file_extension": ".py",
   "mimetype": "text/x-python",
   "name": "python",
   "nbconvert_exporter": "python",
   "pygments_lexer": "ipython3",
   "version": "3.12.5"
  }
 },
 "nbformat": 4,
 "nbformat_minor": 5
}
