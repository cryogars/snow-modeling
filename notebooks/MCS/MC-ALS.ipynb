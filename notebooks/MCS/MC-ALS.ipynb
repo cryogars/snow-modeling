{
 "cells": [
  {
   "cell_type": "code",
   "execution_count": null,
   "id": "bd2d0d09-5a25-4996-b98b-036b6e689ba6",
   "metadata": {},
   "outputs": [],
   "source": [
    "# import rioxarray as rxr\n",
    "import math\n",
    "import numpy as np\n",
    "import pprint as pp\n",
    "\n",
    "from common import *\n",
    "from mcs_shared import load_day, admd\n",
    "\n",
    "use_hvplot()"
   ]
  },
  {
   "cell_type": "code",
   "execution_count": null,
   "id": "dddd1be9-b9b7-4a45-90dc-8fb7642dd056",
   "metadata": {},
   "outputs": [],
   "source": [
    "%load_ext autoreload\n",
    "%autoreload 2"
   ]
  },
  {
   "cell_type": "markdown",
   "id": "0566a88e-e827-4e8c-aea6-a9f4746bfb79",
   "metadata": {},
   "source": [
    "# Dates"
   ]
  },
  {
   "cell_type": "code",
   "execution_count": null,
   "id": "5d32bf4e-c8e9-4953-81d4-669151572bd1",
   "metadata": {},
   "outputs": [],
   "source": [
    "flights = [\"20220217\", \"20220317\", \"20221208\", \"20230209\", \"20230316\", \"20240115\", \"20240315\"]"
   ]
  },
  {
   "cell_type": "code",
   "execution_count": null,
   "id": "370da6a7-db52-450a-881c-e7741ebb2f3e",
   "metadata": {},
   "outputs": [],
   "source": [
    "def plot_flight(date):\n",
    "    mcs_als, isnobal, diff, _mask = load_day(date)\n",
    "\n",
    "    # Sanity check\n",
    "    # print(mcs_als.snowdepth.min().values)\n",
    "\n",
    "    stats = [\n",
    "        get_stats(\"ALS\", mcs_als.snowdepth),\n",
    "        get_stats(\"iSnobal\", isnobal.thickness),\n",
    "        get_stats(\"Difference\", diff),\n",
    "    ]\n",
    "    pp.pprint(pd.concat(stats))\n",
    "\n",
    "    hist_bins = np.arange(0, 5, 0.1)\n",
    "\n",
    "    data = diff.values.flatten()\n",
    "    fig  = plt.figure(dpi=300, figsize=(2,4))\n",
    "    ax = fig.gca()\n",
    "    \n",
    "    parts = ax.violinplot(\n",
    "        data[~np.isnan(data)],\n",
    "        quantiles=[0.05, 0.95],\n",
    "        showextrema=False,\n",
    "        showmeans=True\n",
    "    )\n",
    "    for pc in parts['bodies']:\n",
    "        pc.set_facecolor('peru')\n",
    "        pc.set_alpha=0.8\n",
    "        pc.set_edgecolor('black')\n",
    "    \n",
    "    ax.set_ylim(-2, 2)\n",
    "    # ax.set_yticks(np.arange(-2, 2.2, step=0.2))\n",
    "    ax.yaxis.minorticks_on()\n",
    "    ax.set_ylabel('Depth Difference (m)')\n",
    "    ax.set_title(date)\n",
    "\n",
    "    return diff\n",
    "    \n",
    "    return hv.Layout(\n",
    "        [\n",
    "            # mcs_als.snowdepth.hvplot(x='x', y='y', clim=(0,3)).opts(title='ALS') # + \n",
    "            # isnobal.thickness.hvplot(clim=(0,3)).opts(title='Model') + \n",
    "            # diff.hvplot(x='x', y='y', cmap='bwr_r', clim=(-1,1)).opts(\n",
    "            #     title='Depth Difference', **BOKEH_FONT,\n",
    "            #     yformatter=BasicTickFormatter(use_scientific=False), xformatter=BasicTickFormatter(use_scientific=False),\n",
    "            # ),\n",
    "            diff.hvplot.violin().opts(title='Depth Difference', inner='quartiles', \n",
    "                                      ylabel='Snow Depth (m)', xlabel='', ylim=(-2, 2),\n",
    "                                      height=800, width=400, **BOKEH_FONT), \n",
    "        ] + [\n",
    "            # mcs_als.snowdepth.hvplot.density(alpha=.3, label='ALS').opts(title='Depth Distribution') # *\n",
    "            # isnobal.thickness.hvplot.hist(bins=hist_bins, alpha=.3, label='model'),\n",
    "        ]\n",
    "        ).cols(1).opts(title=date, **HV_PLOT_OPTS)\n",
    "\n",
    "def get_stats(source, data):\n",
    "    return pd.DataFrame({\n",
    "        \"Source\": [source], \n",
    "        \"Median\": [data.median().values],\n",
    "        \"Mean\": [data.mean().values],\n",
    "        \"SD\": [data.std().values],\n",
    "    })"
   ]
  },
  {
   "cell_type": "markdown",
   "id": "999b2e3c-9e4b-4973-ad19-fb19d04d3456",
   "metadata": {},
   "source": [
    "# Flights"
   ]
  },
  {
   "cell_type": "markdown",
   "id": "ecb96a1b-96e9-47b0-9562-b702d72bd113",
   "metadata": {},
   "source": [
    "## 2021"
   ]
  },
  {
   "cell_type": "code",
   "execution_count": null,
   "id": "75a7dc6a-da09-449d-9aab-6d758a89f4f4",
   "metadata": {},
   "outputs": [],
   "source": [
    "data = plot_flight(\"20210310\")"
   ]
  },
  {
   "cell_type": "markdown",
   "id": "fafff713-62aa-4d88-acfa-c22414e68870",
   "metadata": {},
   "source": [
    "## 2022\n",
    "### Melt"
   ]
  },
  {
   "cell_type": "code",
   "execution_count": null,
   "id": "7036fc1c-a9f0-40f6-8964-d00ec06565e0",
   "metadata": {},
   "outputs": [],
   "source": [
    "data = plot_flight(\"20220217\")"
   ]
  },
  {
   "cell_type": "markdown",
   "id": "2361bb06-a5f8-44bc-8df7-ab1d8a7dcaee",
   "metadata": {},
   "source": [
    "## data = plot_flight(\"20220317\")"
   ]
  },
  {
   "cell_type": "code",
   "execution_count": null,
   "id": "31ff8c24-cf68-4785-89bc-b642fb763fb3",
   "metadata": {},
   "outputs": [],
   "source": [
    "data = plot_flight(\"20220407\")"
   ]
  },
  {
   "cell_type": "markdown",
   "id": "fd4712fa-438b-4620-89b6-e9e34972dca3",
   "metadata": {},
   "source": [
    "## 2023\n",
    "### Accumulation"
   ]
  },
  {
   "cell_type": "code",
   "execution_count": null,
   "id": "e3de4813-76ae-4b37-9cc0-32134d1c739e",
   "metadata": {},
   "outputs": [],
   "source": [
    "data = plot_flight(\"20221208\")"
   ]
  },
  {
   "cell_type": "code",
   "execution_count": null,
   "id": "e6c71ae0-bfce-4d22-93fe-8b451c11d7c7",
   "metadata": {},
   "outputs": [],
   "source": [
    "fig  = plt.figure(dpi=300)\n",
    "ax = fig.gca()\n",
    "data.plot(vmin=-1, vmax=1, cmap='RdBu_r', cbar_kwargs={'label':'Depth Difference (m)'})\n",
    "ax.set_title('')\n",
    "ax.ticklabel_format(useOffset=False, style='plain')\n",
    "ax.tick_params(axis='x', labelrotation=45)\n",
    "ax.set_ylabel('Northing [m]')\n",
    "ax.set_xlabel('Easting [m]');"
   ]
  },
  {
   "cell_type": "code",
   "execution_count": null,
   "id": "9e0ed0dd-508c-46ed-a918-569a360f4b39",
   "metadata": {},
   "outputs": [],
   "source": [
    "data = plot_flight(\"20230209\")"
   ]
  },
  {
   "cell_type": "code",
   "execution_count": null,
   "id": "1fa3f7a4-a959-4528-8607-5088bd5bc5c2",
   "metadata": {},
   "outputs": [],
   "source": [
    "fig  = plt.figure(dpi=300)\n",
    "ax = fig.gca()\n",
    "data.plot(vmin=-1, vmax=1, cmap='RdBu_r', cbar_kwargs={'label':'Depth Difference (m)'})\n",
    "ax.set_title('')\n",
    "ax.ticklabel_format(useOffset=False, style='plain')\n",
    "ax.tick_params(axis='x', labelrotation=45)\n",
    "ax.set_ylabel('Northing [m]')\n",
    "ax.set_xlabel('Easting [m]');"
   ]
  },
  {
   "cell_type": "code",
   "execution_count": null,
   "id": "c74ca86e-b899-46f6-9ca7-3598f9d850bd",
   "metadata": {},
   "outputs": [],
   "source": [
    "data = plot_flight(\"20230316\")"
   ]
  },
  {
   "cell_type": "markdown",
   "id": "b1549dda-9574-4c10-be47-42153f2b17c6",
   "metadata": {},
   "source": [
    "### Melt"
   ]
  },
  {
   "cell_type": "code",
   "execution_count": null,
   "id": "ce39d0f3-d83e-4210-ac28-a45365a80458",
   "metadata": {},
   "outputs": [],
   "source": [
    "data = plot_flight(\"20230405\")"
   ]
  },
  {
   "cell_type": "markdown",
   "id": "1ccfb1ff-8399-47ce-9b16-f0dc3cb2d516",
   "metadata": {},
   "source": [
    "## 2024"
   ]
  },
  {
   "cell_type": "markdown",
   "id": "c4c0e27b-37b1-4dfa-865b-91a5be79a959",
   "metadata": {
    "scrolled": true
   },
   "source": [
    "### Early season with low snow"
   ]
  },
  {
   "cell_type": "code",
   "execution_count": null,
   "id": "b71158b3-fd40-43e2-b17a-d2a9a22c1e99",
   "metadata": {
    "scrolled": true
   },
   "outputs": [],
   "source": [
    "# plot_flight(\"20231113\")"
   ]
  },
  {
   "cell_type": "markdown",
   "id": "06287b1f-a101-4fbd-b09f-e237e4271922",
   "metadata": {},
   "source": [
    "### Accumulation"
   ]
  },
  {
   "cell_type": "code",
   "execution_count": null,
   "id": "8452315a-55bd-47e2-a099-764f5391a936",
   "metadata": {},
   "outputs": [],
   "source": [
    "data = plot_flight(\"20231228\")"
   ]
  },
  {
   "cell_type": "code",
   "execution_count": null,
   "id": "c0137e69-b4c4-473d-aec1-ae7307e26508",
   "metadata": {},
   "outputs": [],
   "source": [
    "data = plot_flight(\"20240115\")"
   ]
  },
  {
   "cell_type": "code",
   "execution_count": null,
   "id": "2d9d0c61-c734-43af-9c2a-e9835588a24c",
   "metadata": {
    "scrolled": true
   },
   "outputs": [],
   "source": [
    "# Weather issues during flight\n",
    "# plot_flight(\"20240213\")"
   ]
  },
  {
   "cell_type": "code",
   "execution_count": null,
   "id": "104f1bd9-0491-44c3-98fc-fe7576bfe5ab",
   "metadata": {},
   "outputs": [],
   "source": [
    "data = plot_flight(\"20240315\")"
   ]
  },
  {
   "cell_type": "code",
   "execution_count": null,
   "id": "0043b2a9-8744-4115-b30b-58011d5183f9",
   "metadata": {},
   "outputs": [],
   "source": []
  }
 ],
 "metadata": {
  "kernelspec": {
   "display_name": "Snow Viz",
   "language": "python",
   "name": "snow_viz"
  },
  "language_info": {
   "codemirror_mode": {
    "name": "ipython",
    "version": 3
   },
   "file_extension": ".py",
   "mimetype": "text/x-python",
   "name": "python",
   "nbconvert_exporter": "python",
   "pygments_lexer": "ipython3",
   "version": "3.12.5"
  }
 },
 "nbformat": 4,
 "nbformat_minor": 5
}
