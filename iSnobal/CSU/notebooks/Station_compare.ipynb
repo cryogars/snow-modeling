{
 "cells": [
  {
   "cell_type": "markdown",
   "id": "a7338fa7-30f1-4a80-912f-8d93548721c2",
   "metadata": {},
   "source": [
    "### Python libraries"
   ]
  },
  {
   "cell_type": "code",
   "execution_count": null,
   "id": "e82f7d6e-a15c-4d17-996f-90f6a21c2a0e",
   "metadata": {},
   "outputs": [],
   "source": [
    "import xarray as xr\n",
    "import pandas as pd\n",
    "import pyproj\n",
    "\n",
    "from pathlib import Path\n",
    "\n",
    "from datetime import datetime\n",
    "from metloom.pointdata import SnotelPointData"
   ]
  },
  {
   "cell_type": "markdown",
   "id": "4e9fdb6d-85f0-469b-b48d-e855dc8e2ea1",
   "metadata": {},
   "source": [
    "### Local python helpers"
   ]
  },
  {
   "cell_type": "code",
   "execution_count": null,
   "id": "573afb2b-c79d-4351-8884-50870d6e16a8",
   "metadata": {},
   "outputs": [],
   "source": [
    "from dask_utils import start_cluster, client_ip_and_port"
   ]
  },
  {
   "cell_type": "code",
   "execution_count": null,
   "id": "6c8e4772-a254-45ed-a7a7-a58b02c7912d",
   "metadata": {},
   "outputs": [],
   "source": [
    "%load_ext autoreload\n",
    "%autoreload 2"
   ]
  },
  {
   "cell_type": "markdown",
   "id": "4af8fce1-1bf1-436f-a9c0-7f8790f023d8",
   "metadata": {},
   "source": [
    "## File path to data"
   ]
  },
  {
   "cell_type": "code",
   "execution_count": null,
   "id": "6d6ce4a1-70f0-4f76-ace3-ce3c34d139f4",
   "metadata": {},
   "outputs": [],
   "source": [
    "SNOBAL_DIR = Path('/pl/active/McGrath_Snow/isnobal')\n",
    "STATION_DIR = Path('/pl/active/McGrath_Snow/AWS-data')"
   ]
  },
  {
   "cell_type": "markdown",
   "id": "d0c36485-a9dd-487c-a4a4-fbdc9ec272d5",
   "metadata": {},
   "source": [
    "## Coordinate transformer"
   ]
  },
  {
   "cell_type": "code",
   "execution_count": null,
   "id": "58171d95-376d-4cd1-ab3b-5433bc187f0c",
   "metadata": {},
   "outputs": [],
   "source": [
    "wgs84 = pyproj.CRS('EPSG:4326')\n",
    "utm = pyproj.CRS('EPSG:26913')\n",
    "transformer = pyproj.Transformer.from_crs(wgs84, utm, always_xy=True)"
   ]
  },
  {
   "cell_type": "markdown",
   "id": "a3ad7fd5-f5cb-4375-a38a-a5de4d3e9651",
   "metadata": {},
   "source": [
    "## SNOTEL site"
   ]
  },
  {
   "cell_type": "markdown",
   "id": "c9c30344-9f4e-4e46-aabe-7b14ec562e05",
   "metadata": {},
   "source": [
    "### Convert SNOTEL coords to UTM"
   ]
  },
  {
   "cell_type": "code",
   "execution_count": null,
   "id": "4c5715bd-0937-4e69-ab96-eec173bcd0f7",
   "metadata": {},
   "outputs": [],
   "source": [
    "latitude = 40.53284135\n",
    "longitude = -105.8867646\n",
    "\n",
    "utm_x, utm_y = transformer.transform(longitude, latitude)\n",
    "\n",
    "print(f\"UTM Coordinates: X: {utm_x}, Y: {utm_y}\")"
   ]
  },
  {
   "cell_type": "markdown",
   "id": "807e797c-8b2c-4feb-bc24-129ab8f2f166",
   "metadata": {},
   "source": [
    "### Load data"
   ]
  },
  {
   "cell_type": "code",
   "execution_count": null,
   "id": "f5333bfe-7c33-4d1c-a2a8-8617a1cc77fe",
   "metadata": {},
   "outputs": [],
   "source": [
    "jw_snotel_point = SnotelPointData(\"551:CO:SNTL\", \"Joe Wright\")\n",
    "\n",
    "jw_snotel = jw_snotel_point.get_daily_data(\n",
    "    datetime(2020, 10, 1), datetime(2024, 7, 31),\n",
    "    [jw_snotel_point.ALLOWED_VARIABLES.SNOWDEPTH]\n",
    ")\n",
    "\n",
    "jw_snotel['SNOWDEPTH_M'] = jw_snotel.SNOWDEPTH * 0.0254\n",
    "\n",
    "jw_snotel_mt = jw_snotel['SNOWDEPTH_M'].reset_index().set_index(\"datetime\").tz_convert('US/Mountain')['SNOWDEPTH_M']"
   ]
  },
  {
   "cell_type": "markdown",
   "id": "965f26c6-9af8-494b-bff2-0353ec79768d",
   "metadata": {},
   "source": [
    "## Station data"
   ]
  },
  {
   "cell_type": "markdown",
   "id": "9b79e335-b128-45af-a0c9-976ee4c48ea4",
   "metadata": {},
   "source": [
    "### Coordinates"
   ]
  },
  {
   "cell_type": "code",
   "execution_count": null,
   "id": "68eab616-6744-471a-a941-702c947bf189",
   "metadata": {},
   "outputs": [],
   "source": [
    "burned_north_lon = -105.8468274835282\n",
    "burned_north_lat = 40.54931087929571\n",
    "\n",
    "burned_north_x, burned_north_y = transformer.transform(burned_north_lon, burned_north_lat)\n",
    "\n",
    "burned_south_lon = -105.8690016479696\n",
    "burned_south_lat = 40.55922870450481\n",
    "\n",
    "burned_south_x, burned_south_y = transformer.transform(burned_south_lon, burned_south_lat)\n",
    "\n",
    "burned_flat_lon = -105.8669469812113\n",
    "burned_flat_lat = 40.56410945571656\n",
    "\n",
    "burned_flat_x, burned_flat_y = transformer.transform(burned_flat_lon, burned_flat_lat)\n",
    "\n",
    "unburned_north_lon = -105.8696044592018\n",
    "unburned_north_lat = 40.56453355739959\n",
    "\n",
    "unburned_north_x, unburned_north_y = transformer.transform(unburned_north_lon, unburned_north_lat)\n",
    "\n",
    "unburned_flat_lon = -105.8913545858411\n",
    "unburned_flat_lat = 40.53425307566753\n",
    "\n",
    "unburned_flat_x, unburned_flat_y = transformer.transform(unburned_flat_lon, unburned_flat_lat)"
   ]
  },
  {
   "cell_type": "markdown",
   "id": "f9426204-0e0d-4250-9478-2f41abbd8901",
   "metadata": {},
   "source": [
    "### Load Data"
   ]
  },
  {
   "cell_type": "code",
   "execution_count": null,
   "id": "4e804235-3c62-4ce1-9cf7-499f405a19f8",
   "metadata": {},
   "outputs": [],
   "source": [
    "PD_PARSE_OPTS = dict(header=0, index_col=0, parse_dates=True)\n",
    "bn_depth = pd.read_csv(STATION_DIR / 'B_North_daily_020525.csv', **PD_PARSE_OPTS)\n",
    "bs_depth = pd.read_csv(STATION_DIR / 'B_South_daily_020525.csv', **PD_PARSE_OPTS)\n",
    "bf_depth = pd.read_csv(STATION_DIR / 'B_daily_020525.csv', **PD_PARSE_OPTS)\n",
    "un_depth = pd.read_csv(STATION_DIR / 'UB_North_daily_020525.csv', **PD_PARSE_OPTS)\n",
    "uf_depth = pd.read_csv(STATION_DIR / 'UB_daily_020525.csv', **PD_PARSE_OPTS)"
   ]
  },
  {
   "cell_type": "markdown",
   "id": "00bd5cd7-1da5-41ad-a6df-a2038579b6fd",
   "metadata": {},
   "source": [
    "## iSnobal"
   ]
  },
  {
   "cell_type": "markdown",
   "id": "7d335ce0-523b-4cf9-9624-d56bc6e66181",
   "metadata": {},
   "source": [
    "### Start parallel helper workers"
   ]
  },
  {
   "cell_type": "code",
   "execution_count": null,
   "id": "97e21052-fbaf-438c-9f4f-0795b9b8b10f",
   "metadata": {},
   "outputs": [],
   "source": [
    "client = start_cluster(10, 32)\n",
    "client_ip_and_port(client)"
   ]
  },
  {
   "cell_type": "markdown",
   "id": "eda63917-c9aa-4625-b48e-4f305ed1baab",
   "metadata": {},
   "source": [
    "### Load data"
   ]
  },
  {
   "cell_type": "code",
   "execution_count": null,
   "id": "aca21039-7fbf-4e24-8ac3-dabd1bbf4d6c",
   "metadata": {},
   "outputs": [],
   "source": [
    "wy_snow = xr.open_mfdataset(\n",
    "    (SNOBAL_DIR / 'wy202[1,2,3,4]' / 'cp/*/snow.nc').as_posix(),\n",
    "    preprocess=lambda ds: ds['thickness'],\n",
    "    chunks=\"auto\",\n",
    "    parallel=True,\n",
    ")"
   ]
  },
  {
   "cell_type": "code",
   "execution_count": null,
   "id": "d888c5e8-14e4-4bd6-aa34-ca7c0d23cf65",
   "metadata": {},
   "outputs": [],
   "source": [
    "jw_snobal = wy_snow.sel(x=utm_x, y=utm_y, method='nearest').compute()"
   ]
  },
  {
   "cell_type": "code",
   "execution_count": null,
   "id": "3dcb151e-016e-4492-b552-5449bc90f68f",
   "metadata": {},
   "outputs": [],
   "source": [
    "bn_snobal = wy_snow.sel(x=burned_north_x, y=burned_north_y, method='nearest').compute()"
   ]
  },
  {
   "cell_type": "code",
   "execution_count": null,
   "id": "b968f04a-6cd3-48d0-992d-e565277ad03d",
   "metadata": {},
   "outputs": [],
   "source": [
    "bs_snobal = wy_snow.sel(x=burned_south_x, y=burned_south_y, method='nearest').compute()"
   ]
  },
  {
   "cell_type": "code",
   "execution_count": null,
   "id": "fef2da02-8152-4cb5-ad10-5c668dbd9ee5",
   "metadata": {},
   "outputs": [],
   "source": [
    "bf_snobal = wy_snow.sel(x=burned_flat_x, y=burned_flat_y, method='nearest').compute()"
   ]
  },
  {
   "cell_type": "code",
   "execution_count": null,
   "id": "1568c41f-4d94-48be-9c0e-acb73d804196",
   "metadata": {},
   "outputs": [],
   "source": [
    "un_snobal = wy_snow.sel(x=unburned_north_x, y=unburned_north_y, method='nearest').compute()"
   ]
  },
  {
   "cell_type": "code",
   "execution_count": null,
   "id": "3868e94f-dedd-4dfa-ad40-b251d03bfbb0",
   "metadata": {},
   "outputs": [],
   "source": [
    "uf_snobal = wy_snow.sel(x=unburned_flat_x, y=unburned_flat_y, method='nearest').compute()"
   ]
  },
  {
   "cell_type": "code",
   "execution_count": null,
   "id": "14341efa-34e7-4cea-9a33-49c45a2c8005",
   "metadata": {},
   "outputs": [],
   "source": [
    "client.shutdown()"
   ]
  },
  {
   "cell_type": "markdown",
   "id": "f60fdf03-c7de-43e5-b152-f4b3188d0bcc",
   "metadata": {},
   "source": [
    "## Plots"
   ]
  },
  {
   "cell_type": "code",
   "execution_count": null,
   "id": "dcae0f28-c1de-4008-bc0d-81ae79ab1a53",
   "metadata": {},
   "outputs": [],
   "source": [
    "import hvplot.xarray\n",
    "import hvplot.pandas\n",
    "import holoviews as hv\n",
    "\n",
    "hvplot.extension('bokeh')\n",
    "pd.options.plotting.backend = 'holoviews'"
   ]
  },
  {
   "cell_type": "code",
   "execution_count": null,
   "id": "bce04d90-1516-4246-b332-2330d541bf88",
   "metadata": {},
   "outputs": [],
   "source": [
    "hv.output(fig='auto', dpi=300)\n",
    "\n",
    "HV_PLOT_OPTS = dict(\n",
    "    width=1200,\n",
    "    height=600,\n",
    "    ylabel='Snow Depth (m)',\n",
    "    xlabel='Water Year'\n",
    ")\n",
    "\n",
    "SNOTEL_LINE = dict(\n",
    "    line_width=3\n",
    ")"
   ]
  },
  {
   "cell_type": "markdown",
   "id": "e9ee1a37-7389-4544-8c8e-c2c31fc03ac4",
   "metadata": {},
   "source": [
    "### Burned North"
   ]
  },
  {
   "cell_type": "code",
   "execution_count": null,
   "id": "eb26fe45-4392-408d-84f9-9bb9072f259a",
   "metadata": {},
   "outputs": [],
   "source": [
    "bn_snobal.thickness.hvplot(label='iSnobal', **HV_PLOT_OPTS) * \\\n",
    "bn_depth['DBTCDT_Avg'].hvplot(label='Station')"
   ]
  },
  {
   "cell_type": "markdown",
   "id": "46e029ba-b9f9-4000-859f-638aaaf4d331",
   "metadata": {},
   "source": [
    "### Burned South"
   ]
  },
  {
   "cell_type": "code",
   "execution_count": null,
   "id": "6b02a76b-a591-45ee-a41c-0293bc3edb19",
   "metadata": {},
   "outputs": [],
   "source": [
    "bs_snobal.thickness.hvplot(label='iSnobal', **HV_PLOT_OPTS) * \\\n",
    "bs_depth['DBTCDT_Avg'].hvplot(label='Station')"
   ]
  },
  {
   "cell_type": "markdown",
   "id": "321fed59-90a8-4059-ad14-b34328448eb5",
   "metadata": {},
   "source": [
    "### Burned Flat"
   ]
  },
  {
   "cell_type": "code",
   "execution_count": null,
   "id": "39ea3103-b4bd-4d22-9b73-29add32aa3cc",
   "metadata": {},
   "outputs": [],
   "source": [
    "bf_snobal.thickness.hvplot(label='iSnobal', **HV_PLOT_OPTS) * \\\n",
    "bf_depth['DBTCDT_Avg'].hvplot(label='Station')"
   ]
  },
  {
   "cell_type": "markdown",
   "id": "09354341-c66f-4669-a6f3-304ed5a16e3e",
   "metadata": {},
   "source": [
    "### Unburned North"
   ]
  },
  {
   "cell_type": "code",
   "execution_count": null,
   "id": "594744a5-8486-4fb2-abc9-7b077889bcf3",
   "metadata": {},
   "outputs": [],
   "source": [
    "un_snobal.thickness.hvplot(label='iSnobal', **HV_PLOT_OPTS) * \\\n",
    "un_depth['DBTCDT_Avg'].hvplot(label='Station')"
   ]
  },
  {
   "cell_type": "markdown",
   "id": "f65436d1-a1fe-4898-ab91-a673daab4afd",
   "metadata": {},
   "source": [
    "### Unburned Flat"
   ]
  },
  {
   "cell_type": "code",
   "execution_count": null,
   "id": "29c813f5-72fa-4054-9414-15956281d088",
   "metadata": {},
   "outputs": [],
   "source": [
    "uf_snobal.thickness.hvplot(label='iSnobal', **HV_PLOT_OPTS) * \\\n",
    "uf_depth['DBTCDT_Avg'].hvplot(label='Station')"
   ]
  },
  {
   "cell_type": "markdown",
   "id": "7a131a5e-d769-4821-98d5-cecee0cfc84e",
   "metadata": {},
   "source": [
    "### SNOTEL"
   ]
  },
  {
   "cell_type": "code",
   "execution_count": null,
   "id": "ce04b32d-8e04-4788-92db-7fe28797aa9f",
   "metadata": {},
   "outputs": [],
   "source": [
    "jw_snobal.thickness.hvplot(label='iSnobal', **HV_PLOT_OPTS) * \\\n",
    "jw_snotel_mt.plot(label='Station', **SNOTEL_LINE)"
   ]
  }
 ],
 "metadata": {
  "kernelspec": {
   "display_name": "snow_viz",
   "language": "python",
   "name": "snow_viz"
  },
  "language_info": {
   "codemirror_mode": {
    "name": "ipython",
    "version": 3
   },
   "file_extension": ".py",
   "mimetype": "text/x-python",
   "name": "python",
   "nbconvert_exporter": "python",
   "pygments_lexer": "ipython3",
   "version": "3.12.8"
  }
 },
 "nbformat": 4,
 "nbformat_minor": 5
}
